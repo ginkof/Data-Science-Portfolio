{
 "cells": [
  {
   "cell_type": "code",
   "execution_count": null,
   "id": "3c020f7f",
   "metadata": {},
   "outputs": [],
   "source": [
    "import pandas as pd"
   ]
  },
  {
   "cell_type": "code",
   "execution_count": 5,
   "id": "f9b4aced",
   "metadata": {
    "scrolled": true
   },
   "outputs": [],
   "source": [
    "# Importing data\n",
    "\n",
    "# We have 40 folders 'YYYY' (years 1980-2019)\n",
    "# Each folder contains a 365*24 datasets with name 'YYYY_MM_DD_HH_UTC_County_Mean_Meteorology.csv'\n",
    "\n",
    "# formula to calculate leap years\n",
    "def leap_year(year):\n",
    "    return year % 4 == 0 and (year % 100 != 0 or year % 400 == 0)\n",
    "\n",
    "\n",
    "# define parameters for data importing\n",
    "YYYY = [f'{year:04}' for year in range(1980, 2020)]\n",
    "DD = [f'{day:02}' for day in range(1, 32)]\n",
    "HH = [f'{hour:02}' for hour in range(0, 24)]\n",
    "MM = {f'{month:02}': DD if month not in {2, 4, 6, 9, 11} else DD[:30 if month != 2 else (29 if leap_year(year) else 28)] for month in range(1, 13)}\n",
    "\n",
    "#define filename\n",
    "names = []\n",
    "\n",
    "for year in YYYY:\n",
    "    for month in list(MM.keys()):\n",
    "        for day in list(MM[month]):\n",
    "            for hour in HH:\n",
    "                names.append(f'/Users/G/Mentorship_dataset_Meteorology/historic/{year}/{year}_{month}_{day}_{hour}_UTC_County_Mean_Meteorology.csv')"
   ]
  },
  {
   "cell_type": "code",
   "execution_count": null,
   "id": "105d7450",
   "metadata": {},
   "outputs": [],
   "source": [
    "# import the data\n",
    "\n",
    "df_list = []\n",
    "for year in YYYY:\n",
    "    for month in list(MM.keys()):\n",
    "        for day in list(MM[month]):\n",
    "            for hour in HH:\n",
    "                # read the data\n",
    "                df = pd.read_csv(f'/Users/G/Mentorship_dataset_Meteorology/historic/{year}/{year}_{month}_{day}_{hour}_UTC_County_Mean_Meteorology.csv')\n",
    "                # keep the relevant columns only\n",
    "                new_df = pd.DataFrame({\n",
    "                    \"date\": [f\"{year}-{month}-{day}-{hour}\"] * len(df),\n",
    "                    \"year\": [f\"{year}\"] * len(df),\n",
    "                    \"month\": [f\"{month}\"] * len(df),\n",
    "                    \"T2\": df[\"T2\"],\n",
    "                    \"Q2\": df[\"Q2\"],\n",
    "                    \"U10\": df[\"U10\"],\n",
    "                    \"V10\": df[\"V10\"],\n",
    "                    \"SWDOWN\": df[\"SWDOWN\"],\n",
    "                    \"GLW\": df[\"GLW\"]\n",
    "                })\n",
    "                # add the new dframe to a list\n",
    "                df_list.append(new_df)"
   ]
  },
  {
   "cell_type": "code",
   "execution_count": null,
   "id": "cc5fdd2e",
   "metadata": {},
   "outputs": [],
   "source": [
    "#These are 40*365*24 data frames\n",
    "#We now average over the locations (FIPS) and create new dfs with columns T and Q\n",
    "\n",
    "newlist_df= []\n",
    "for i in range(0,len(df_list)):\n",
    "    newlist_df.append(df_list[i].groupby(by=[\"date\",\"month\"]).agg(T=(\"T2\",\"mean\"),Q=(\"Q2\",\"mean\")).reset_index())\n",
    "    \n",
    "# concatenate the new datasets\n",
    "final_df= pd.concat(newlist_df).reset_index()"
   ]
  },
  {
   "cell_type": "code",
   "execution_count": null,
   "id": "df82c961",
   "metadata": {},
   "outputs": [],
   "source": [
    "#We then export this df\n",
    "final_df.to_csv('historical.csv')"
   ]
  }
 ],
 "metadata": {
  "kernelspec": {
   "display_name": "Python 3 (ipykernel)",
   "language": "python",
   "name": "python3"
  },
  "language_info": {
   "codemirror_mode": {
    "name": "ipython",
    "version": 3
   },
   "file_extension": ".py",
   "mimetype": "text/x-python",
   "name": "python",
   "nbconvert_exporter": "python",
   "pygments_lexer": "ipython3",
   "version": "3.10.9"
  }
 },
 "nbformat": 4,
 "nbformat_minor": 5
}
