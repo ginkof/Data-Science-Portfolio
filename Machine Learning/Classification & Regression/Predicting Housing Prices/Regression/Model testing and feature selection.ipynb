{
 "cells": [
  {
   "cell_type": "markdown",
   "id": "55536356-b3bc-44e6-8c57-34f5e4402aae",
   "metadata": {
    "tags": []
   },
   "source": [
    "# Model testing and feature selection\n",
    "In this notebook we test several model, monitoting their efficency with and without feature selection.\n",
    "Again, the task is a regression analysis where we aim to predict the price of houses given the data.\n",
    "Regaring feature engineering we will use \n",
    "* Kbest: uses statistic (ANOVA, chi2) to rank features and keep the selected best ones, measured by their ability to predict the label on their own in a linear model\n",
    "* Recursive Feature Elimination (RFE)\n",
    "* Variance threshold: Features with a low variance have a low amount of information. With this transformer, we can drop the features with the lowest variance. "
   ]
  },
  {
   "cell_type": "code",
   "execution_count": 1,
   "id": "9ffde5ea-86fe-4739-ac3f-56e3b690f029",
   "metadata": {},
   "outputs": [],
   "source": [
    "import seaborn as sns\n",
    "import pandas as pd\n",
    "\n",
    "# load dataset\n",
    "path = '/Users/G/Desktop/Documents/Formazione in Data Science/WBS/WBS Bootcamp/7. Supervised Machine Learning/Data/iter-7/housing_prices.csv'\n",
    "housing = pd.read_csv(path)"
   ]
  },
  {
   "cell_type": "markdown",
   "id": "2e156ca2-8244-47b6-bd00-0fa1402867bf",
   "metadata": {
    "jp-MarkdownHeadingCollapsed": true,
    "tags": []
   },
   "source": [
    "## 1. Data Preparation\n",
    "In the following we split the data in training and testing set, we settle the ordinal encoding for categorical features and eventually we prepare the pipelines."
   ]
  },
  {
   "cell_type": "markdown",
   "id": "cc92b1f6-b063-4810-bdaa-4541b7fd035d",
   "metadata": {
    "jp-MarkdownHeadingCollapsed": true,
    "tags": []
   },
   "source": [
    "### 1.1 Train test split"
   ]
  },
  {
   "cell_type": "code",
   "execution_count": 2,
   "id": "bf493324-f458-4cb0-b5be-7ca3fef25b3d",
   "metadata": {},
   "outputs": [],
   "source": [
    "from sklearn.model_selection import train_test_split\n",
    "\n",
    "X = housing.copy()\n",
    "#Target variable SalePrice\n",
    "y = X.pop(\"SalePrice\")\n",
    "#Remove unessential features\n",
    "X.drop(\"Id\", axis=1, inplace=True)\n",
    "\n",
    "X_train, X_test, y_train, y_test = train_test_split(X, y, test_size=0.2, random_state=1)"
   ]
  },
  {
   "cell_type": "markdown",
   "id": "4a85c46d-d340-4ea1-8100-5b9b031f03cf",
   "metadata": {
    "jp-MarkdownHeadingCollapsed": true,
    "tags": []
   },
   "source": [
    "### 1.2 Ordinal encoding"
   ]
  },
  {
   "cell_type": "code",
   "execution_count": 3,
   "id": "216e1746-d90e-4b70-b9ee-e00554b0bffd",
   "metadata": {},
   "outputs": [],
   "source": [
    "#List of categorcal features\n",
    "ordered_categories_column_names = ['ExterQual', 'ExterCond', 'BsmtQual', 'BsmtCond', 'BsmtExposure', 'BsmtFinType1',\n",
    "                                   'BsmtFinType2', 'HeatingQC', 'KitchenQual', 'FireplaceQu', 'GarageFinish', 'GarageQual', 'GarageCond', 'PoolQC', 'Fence']\n",
    "\n",
    "#Ordinal encoding according to data_description.txt\n",
    "ExterQual_cat = ['Po', 'Fa', 'TA', 'Gd', \"Ex\"]\n",
    "ExterCond_cat = ['Po', 'Fa', 'TA', 'Gd', \"Ex\"]\n",
    "BsmtQual_cat = ['Na', 'Po', 'Fa', 'TA', 'Gd', \"Ex\"]\n",
    "BsmtCond_cat = ['Na', 'Po', 'Fa', 'TA', 'Gd', \"Ex\"]\n",
    "BsmtExposure_cat = ['NA', 'No', 'Mn', 'Av', 'Gd']\n",
    "BsmtFinType1_cat = ['NA', 'Unf', 'LwQ', 'Rec', 'BLQ', 'ALQ', 'GLQ']\n",
    "BsmtFinType2_cat = ['NA', 'Unf', 'LwQ', 'Rec', 'BLQ', 'ALQ', 'GLQ']\n",
    "HeatingQC_cat = ['Po', 'Fa', 'TA', 'Gd', \"Ex\"]\n",
    "KitchenQual_cat = ['Po', 'Fa', 'TA', 'Gd', \"Ex\"]\n",
    "FireplaceQu_cat = ['Na', 'Po', 'Fa', 'TA', 'Gd', \"Ex\"]\n",
    "GarageFinish_cat = ['NA', 'Unf', 'RFn', 'Fin']\n",
    "GarageQual_cat = ['Na', 'Po', 'Fa', 'TA', 'Gd', \"Ex\"]\n",
    "GarageCond_cat = ['Na', 'Po', 'Fa', 'TA', 'Gd', \"Ex\"]\n",
    "PoolQC_cat = ['Na', 'Po', 'Fa', 'TA', 'Gd', \"Ex\"]\n",
    "Fence_cat = ['Na', 'MnWw', 'GdWo', 'MnPrv', 'GdPrv']\n",
    "\n",
    "ordinal_cats_list = [ExterQual_cat, ExterCond_cat, BsmtQual_cat, BsmtCond_cat, BsmtExposure_cat, BsmtFinType1_cat,\n",
    "                     BsmtFinType2_cat, HeatingQC_cat, KitchenQual_cat, FireplaceQu_cat, GarageFinish_cat, GarageQual_cat, GarageCond_cat, PoolQC_cat, Fence_cat]\n"
   ]
  },
  {
   "cell_type": "markdown",
   "id": "218cb4f5-cd7c-4e8a-a021-93b9fed963fd",
   "metadata": {
    "jp-MarkdownHeadingCollapsed": true,
    "tags": []
   },
   "source": [
    "### 1.3 Pipeline"
   ]
  },
  {
   "cell_type": "code",
   "execution_count": 4,
   "id": "7f8f04f5-a7a6-456f-a485-336e22277f16",
   "metadata": {},
   "outputs": [
    {
     "data": {
      "text/html": [
       "<style>#sk-container-id-1 {color: black;background-color: white;}#sk-container-id-1 pre{padding: 0;}#sk-container-id-1 div.sk-toggleable {background-color: white;}#sk-container-id-1 label.sk-toggleable__label {cursor: pointer;display: block;width: 100%;margin-bottom: 0;padding: 0.3em;box-sizing: border-box;text-align: center;}#sk-container-id-1 label.sk-toggleable__label-arrow:before {content: \"▸\";float: left;margin-right: 0.25em;color: #696969;}#sk-container-id-1 label.sk-toggleable__label-arrow:hover:before {color: black;}#sk-container-id-1 div.sk-estimator:hover label.sk-toggleable__label-arrow:before {color: black;}#sk-container-id-1 div.sk-toggleable__content {max-height: 0;max-width: 0;overflow: hidden;text-align: left;background-color: #f0f8ff;}#sk-container-id-1 div.sk-toggleable__content pre {margin: 0.2em;color: black;border-radius: 0.25em;background-color: #f0f8ff;}#sk-container-id-1 input.sk-toggleable__control:checked~div.sk-toggleable__content {max-height: 200px;max-width: 100%;overflow: auto;}#sk-container-id-1 input.sk-toggleable__control:checked~label.sk-toggleable__label-arrow:before {content: \"▾\";}#sk-container-id-1 div.sk-estimator input.sk-toggleable__control:checked~label.sk-toggleable__label {background-color: #d4ebff;}#sk-container-id-1 div.sk-label input.sk-toggleable__control:checked~label.sk-toggleable__label {background-color: #d4ebff;}#sk-container-id-1 input.sk-hidden--visually {border: 0;clip: rect(1px 1px 1px 1px);clip: rect(1px, 1px, 1px, 1px);height: 1px;margin: -1px;overflow: hidden;padding: 0;position: absolute;width: 1px;}#sk-container-id-1 div.sk-estimator {font-family: monospace;background-color: #f0f8ff;border: 1px dotted black;border-radius: 0.25em;box-sizing: border-box;margin-bottom: 0.5em;}#sk-container-id-1 div.sk-estimator:hover {background-color: #d4ebff;}#sk-container-id-1 div.sk-parallel-item::after {content: \"\";width: 100%;border-bottom: 1px solid gray;flex-grow: 1;}#sk-container-id-1 div.sk-label:hover label.sk-toggleable__label {background-color: #d4ebff;}#sk-container-id-1 div.sk-serial::before {content: \"\";position: absolute;border-left: 1px solid gray;box-sizing: border-box;top: 0;bottom: 0;left: 50%;z-index: 0;}#sk-container-id-1 div.sk-serial {display: flex;flex-direction: column;align-items: center;background-color: white;padding-right: 0.2em;padding-left: 0.2em;position: relative;}#sk-container-id-1 div.sk-item {position: relative;z-index: 1;}#sk-container-id-1 div.sk-parallel {display: flex;align-items: stretch;justify-content: center;background-color: white;position: relative;}#sk-container-id-1 div.sk-item::before, #sk-container-id-1 div.sk-parallel-item::before {content: \"\";position: absolute;border-left: 1px solid gray;box-sizing: border-box;top: 0;bottom: 0;left: 50%;z-index: -1;}#sk-container-id-1 div.sk-parallel-item {display: flex;flex-direction: column;z-index: 1;position: relative;background-color: white;}#sk-container-id-1 div.sk-parallel-item:first-child::after {align-self: flex-end;width: 50%;}#sk-container-id-1 div.sk-parallel-item:last-child::after {align-self: flex-start;width: 50%;}#sk-container-id-1 div.sk-parallel-item:only-child::after {width: 0;}#sk-container-id-1 div.sk-dashed-wrapped {border: 1px dashed gray;margin: 0 0.4em 0.5em 0.4em;box-sizing: border-box;padding-bottom: 0.4em;background-color: white;}#sk-container-id-1 div.sk-label label {font-family: monospace;font-weight: bold;display: inline-block;line-height: 1.2em;}#sk-container-id-1 div.sk-label-container {text-align: center;}#sk-container-id-1 div.sk-container {/* jupyter's `normalize.less` sets `[hidden] { display: none; }` but bootstrap.min.css set `[hidden] { display: none !important; }` so we also need the `!important` here to be able to override the default hidden behavior on the sphinx rendered scikit-learn.org. See: https://github.com/scikit-learn/scikit-learn/issues/21755 */display: inline-block !important;position: relative;}#sk-container-id-1 div.sk-text-repr-fallback {display: none;}</style><div id=\"sk-container-id-1\" class=\"sk-top-container\"><div class=\"sk-text-repr-fallback\"><pre>ColumnTransformer(transformers=[(&#x27;num&#x27;,\n",
       "                                 Pipeline(steps=[(&#x27;simpleimputer&#x27;,\n",
       "                                                  SimpleImputer())]),\n",
       "                                 Index([&#x27;MSSubClass&#x27;, &#x27;LotFrontage&#x27;, &#x27;LotArea&#x27;, &#x27;OverallQual&#x27;, &#x27;OverallCond&#x27;,\n",
       "       &#x27;YearBuilt&#x27;, &#x27;YearRemodAdd&#x27;, &#x27;MasVnrArea&#x27;, &#x27;BsmtFinSF1&#x27;, &#x27;BsmtFinSF2&#x27;,\n",
       "       &#x27;BsmtUnfSF&#x27;, &#x27;TotalBsmtSF&#x27;, &#x27;1stFlrSF&#x27;, &#x27;2ndFlrSF&#x27;, &#x27;LowQualFinSF&#x27;,\n",
       "       &#x27;GrLivArea&#x27;, &#x27;BsmtFullBath&#x27;, &#x27;BsmtHalfBath&#x27;, &#x27;FullBath&#x27;, &#x27;Half...\n",
       "                                                                              &#x27;Gd&#x27;,\n",
       "                                                                              &#x27;Ex&#x27;],\n",
       "                                                                             [&#x27;Na&#x27;,\n",
       "                                                                              &#x27;Po&#x27;,\n",
       "                                                                              &#x27;Fa&#x27;,\n",
       "                                                                              &#x27;TA&#x27;,\n",
       "                                                                              &#x27;Gd&#x27;,\n",
       "                                                                              &#x27;Ex&#x27;],\n",
       "                                                                             [&#x27;Na&#x27;,\n",
       "                                                                              &#x27;MnWw&#x27;,\n",
       "                                                                              &#x27;GdWo&#x27;,\n",
       "                                                                              &#x27;MnPrv&#x27;,\n",
       "                                                                              &#x27;GdPrv&#x27;]],\n",
       "                                                                 handle_unknown=&#x27;use_encoded_value&#x27;,\n",
       "                                                                 unknown_value=-1))]),\n",
       "                                 Index([&#x27;ExterQual&#x27;, &#x27;ExterCond&#x27;, &#x27;BsmtQual&#x27;, &#x27;BsmtCond&#x27;, &#x27;BsmtExposure&#x27;,\n",
       "       &#x27;BsmtFinType1&#x27;, &#x27;BsmtFinType2&#x27;, &#x27;HeatingQC&#x27;, &#x27;KitchenQual&#x27;,\n",
       "       &#x27;FireplaceQu&#x27;, &#x27;GarageFinish&#x27;, &#x27;GarageQual&#x27;, &#x27;GarageCond&#x27;, &#x27;PoolQC&#x27;,\n",
       "       &#x27;Fence&#x27;],\n",
       "      dtype=&#x27;object&#x27;))])</pre><b>In a Jupyter environment, please rerun this cell to show the HTML representation or trust the notebook. <br />On GitHub, the HTML representation is unable to render, please try loading this page with nbviewer.org.</b></div><div class=\"sk-container\" hidden><div class=\"sk-item sk-dashed-wrapped\"><div class=\"sk-label-container\"><div class=\"sk-label sk-toggleable\"><input class=\"sk-toggleable__control sk-hidden--visually\" id=\"sk-estimator-id-1\" type=\"checkbox\" ><label for=\"sk-estimator-id-1\" class=\"sk-toggleable__label sk-toggleable__label-arrow\">ColumnTransformer</label><div class=\"sk-toggleable__content\"><pre>ColumnTransformer(transformers=[(&#x27;num&#x27;,\n",
       "                                 Pipeline(steps=[(&#x27;simpleimputer&#x27;,\n",
       "                                                  SimpleImputer())]),\n",
       "                                 Index([&#x27;MSSubClass&#x27;, &#x27;LotFrontage&#x27;, &#x27;LotArea&#x27;, &#x27;OverallQual&#x27;, &#x27;OverallCond&#x27;,\n",
       "       &#x27;YearBuilt&#x27;, &#x27;YearRemodAdd&#x27;, &#x27;MasVnrArea&#x27;, &#x27;BsmtFinSF1&#x27;, &#x27;BsmtFinSF2&#x27;,\n",
       "       &#x27;BsmtUnfSF&#x27;, &#x27;TotalBsmtSF&#x27;, &#x27;1stFlrSF&#x27;, &#x27;2ndFlrSF&#x27;, &#x27;LowQualFinSF&#x27;,\n",
       "       &#x27;GrLivArea&#x27;, &#x27;BsmtFullBath&#x27;, &#x27;BsmtHalfBath&#x27;, &#x27;FullBath&#x27;, &#x27;Half...\n",
       "                                                                              &#x27;Gd&#x27;,\n",
       "                                                                              &#x27;Ex&#x27;],\n",
       "                                                                             [&#x27;Na&#x27;,\n",
       "                                                                              &#x27;Po&#x27;,\n",
       "                                                                              &#x27;Fa&#x27;,\n",
       "                                                                              &#x27;TA&#x27;,\n",
       "                                                                              &#x27;Gd&#x27;,\n",
       "                                                                              &#x27;Ex&#x27;],\n",
       "                                                                             [&#x27;Na&#x27;,\n",
       "                                                                              &#x27;MnWw&#x27;,\n",
       "                                                                              &#x27;GdWo&#x27;,\n",
       "                                                                              &#x27;MnPrv&#x27;,\n",
       "                                                                              &#x27;GdPrv&#x27;]],\n",
       "                                                                 handle_unknown=&#x27;use_encoded_value&#x27;,\n",
       "                                                                 unknown_value=-1))]),\n",
       "                                 Index([&#x27;ExterQual&#x27;, &#x27;ExterCond&#x27;, &#x27;BsmtQual&#x27;, &#x27;BsmtCond&#x27;, &#x27;BsmtExposure&#x27;,\n",
       "       &#x27;BsmtFinType1&#x27;, &#x27;BsmtFinType2&#x27;, &#x27;HeatingQC&#x27;, &#x27;KitchenQual&#x27;,\n",
       "       &#x27;FireplaceQu&#x27;, &#x27;GarageFinish&#x27;, &#x27;GarageQual&#x27;, &#x27;GarageCond&#x27;, &#x27;PoolQC&#x27;,\n",
       "       &#x27;Fence&#x27;],\n",
       "      dtype=&#x27;object&#x27;))])</pre></div></div></div><div class=\"sk-parallel\"><div class=\"sk-parallel-item\"><div class=\"sk-item\"><div class=\"sk-label-container\"><div class=\"sk-label sk-toggleable\"><input class=\"sk-toggleable__control sk-hidden--visually\" id=\"sk-estimator-id-2\" type=\"checkbox\" ><label for=\"sk-estimator-id-2\" class=\"sk-toggleable__label sk-toggleable__label-arrow\">num</label><div class=\"sk-toggleable__content\"><pre>Index([&#x27;MSSubClass&#x27;, &#x27;LotFrontage&#x27;, &#x27;LotArea&#x27;, &#x27;OverallQual&#x27;, &#x27;OverallCond&#x27;,\n",
       "       &#x27;YearBuilt&#x27;, &#x27;YearRemodAdd&#x27;, &#x27;MasVnrArea&#x27;, &#x27;BsmtFinSF1&#x27;, &#x27;BsmtFinSF2&#x27;,\n",
       "       &#x27;BsmtUnfSF&#x27;, &#x27;TotalBsmtSF&#x27;, &#x27;1stFlrSF&#x27;, &#x27;2ndFlrSF&#x27;, &#x27;LowQualFinSF&#x27;,\n",
       "       &#x27;GrLivArea&#x27;, &#x27;BsmtFullBath&#x27;, &#x27;BsmtHalfBath&#x27;, &#x27;FullBath&#x27;, &#x27;HalfBath&#x27;,\n",
       "       &#x27;BedroomAbvGr&#x27;, &#x27;KitchenAbvGr&#x27;, &#x27;TotRmsAbvGrd&#x27;, &#x27;Fireplaces&#x27;,\n",
       "       &#x27;GarageYrBlt&#x27;, &#x27;GarageCars&#x27;, &#x27;GarageArea&#x27;, &#x27;WoodDeckSF&#x27;, &#x27;OpenPorchSF&#x27;,\n",
       "       &#x27;EnclosedPorch&#x27;, &#x27;3SsnPorch&#x27;, &#x27;ScreenPorch&#x27;, &#x27;PoolArea&#x27;, &#x27;MiscVal&#x27;,\n",
       "       &#x27;MoSold&#x27;, &#x27;YrSold&#x27;],\n",
       "      dtype=&#x27;object&#x27;)</pre></div></div></div><div class=\"sk-serial\"><div class=\"sk-item\"><div class=\"sk-serial\"><div class=\"sk-item\"><div class=\"sk-estimator sk-toggleable\"><input class=\"sk-toggleable__control sk-hidden--visually\" id=\"sk-estimator-id-3\" type=\"checkbox\" ><label for=\"sk-estimator-id-3\" class=\"sk-toggleable__label sk-toggleable__label-arrow\">SimpleImputer</label><div class=\"sk-toggleable__content\"><pre>SimpleImputer()</pre></div></div></div></div></div></div></div></div><div class=\"sk-parallel-item\"><div class=\"sk-item\"><div class=\"sk-label-container\"><div class=\"sk-label sk-toggleable\"><input class=\"sk-toggleable__control sk-hidden--visually\" id=\"sk-estimator-id-4\" type=\"checkbox\" ><label for=\"sk-estimator-id-4\" class=\"sk-toggleable__label sk-toggleable__label-arrow\">unordered</label><div class=\"sk-toggleable__content\"><pre>Index([&#x27;MSZoning&#x27;, &#x27;Street&#x27;, &#x27;Alley&#x27;, &#x27;LotShape&#x27;, &#x27;LandContour&#x27;, &#x27;Utilities&#x27;,\n",
       "       &#x27;LotConfig&#x27;, &#x27;LandSlope&#x27;, &#x27;Neighborhood&#x27;, &#x27;Condition1&#x27;, &#x27;Condition2&#x27;,\n",
       "       &#x27;BldgType&#x27;, &#x27;HouseStyle&#x27;, &#x27;RoofStyle&#x27;, &#x27;RoofMatl&#x27;, &#x27;Exterior1st&#x27;,\n",
       "       &#x27;Exterior2nd&#x27;, &#x27;MasVnrType&#x27;, &#x27;Foundation&#x27;, &#x27;Heating&#x27;, &#x27;CentralAir&#x27;,\n",
       "       &#x27;Electrical&#x27;, &#x27;Functional&#x27;, &#x27;GarageType&#x27;, &#x27;PavedDrive&#x27;, &#x27;MiscFeature&#x27;,\n",
       "       &#x27;SaleType&#x27;, &#x27;SaleCondition&#x27;],\n",
       "      dtype=&#x27;object&#x27;)</pre></div></div></div><div class=\"sk-serial\"><div class=\"sk-item\"><div class=\"sk-serial\"><div class=\"sk-item\"><div class=\"sk-estimator sk-toggleable\"><input class=\"sk-toggleable__control sk-hidden--visually\" id=\"sk-estimator-id-5\" type=\"checkbox\" ><label for=\"sk-estimator-id-5\" class=\"sk-toggleable__label sk-toggleable__label-arrow\">SimpleImputer</label><div class=\"sk-toggleable__content\"><pre>SimpleImputer(fill_value=&#x27;N_A&#x27;, strategy=&#x27;constant&#x27;)</pre></div></div></div><div class=\"sk-item\"><div class=\"sk-estimator sk-toggleable\"><input class=\"sk-toggleable__control sk-hidden--visually\" id=\"sk-estimator-id-6\" type=\"checkbox\" ><label for=\"sk-estimator-id-6\" class=\"sk-toggleable__label sk-toggleable__label-arrow\">OneHotEncoder</label><div class=\"sk-toggleable__content\"><pre>OneHotEncoder(handle_unknown=&#x27;ignore&#x27;, sparse_output=False)</pre></div></div></div></div></div></div></div></div><div class=\"sk-parallel-item\"><div class=\"sk-item\"><div class=\"sk-label-container\"><div class=\"sk-label sk-toggleable\"><input class=\"sk-toggleable__control sk-hidden--visually\" id=\"sk-estimator-id-7\" type=\"checkbox\" ><label for=\"sk-estimator-id-7\" class=\"sk-toggleable__label sk-toggleable__label-arrow\">ordered</label><div class=\"sk-toggleable__content\"><pre>Index([&#x27;ExterQual&#x27;, &#x27;ExterCond&#x27;, &#x27;BsmtQual&#x27;, &#x27;BsmtCond&#x27;, &#x27;BsmtExposure&#x27;,\n",
       "       &#x27;BsmtFinType1&#x27;, &#x27;BsmtFinType2&#x27;, &#x27;HeatingQC&#x27;, &#x27;KitchenQual&#x27;,\n",
       "       &#x27;FireplaceQu&#x27;, &#x27;GarageFinish&#x27;, &#x27;GarageQual&#x27;, &#x27;GarageCond&#x27;, &#x27;PoolQC&#x27;,\n",
       "       &#x27;Fence&#x27;],\n",
       "      dtype=&#x27;object&#x27;)</pre></div></div></div><div class=\"sk-serial\"><div class=\"sk-item\"><div class=\"sk-serial\"><div class=\"sk-item\"><div class=\"sk-estimator sk-toggleable\"><input class=\"sk-toggleable__control sk-hidden--visually\" id=\"sk-estimator-id-8\" type=\"checkbox\" ><label for=\"sk-estimator-id-8\" class=\"sk-toggleable__label sk-toggleable__label-arrow\">SimpleImputer</label><div class=\"sk-toggleable__content\"><pre>SimpleImputer(fill_value=&#x27;N_A&#x27;, strategy=&#x27;constant&#x27;)</pre></div></div></div><div class=\"sk-item\"><div class=\"sk-estimator sk-toggleable\"><input class=\"sk-toggleable__control sk-hidden--visually\" id=\"sk-estimator-id-9\" type=\"checkbox\" ><label for=\"sk-estimator-id-9\" class=\"sk-toggleable__label sk-toggleable__label-arrow\">OrdinalEncoder</label><div class=\"sk-toggleable__content\"><pre>OrdinalEncoder(categories=[[&#x27;Po&#x27;, &#x27;Fa&#x27;, &#x27;TA&#x27;, &#x27;Gd&#x27;, &#x27;Ex&#x27;],\n",
       "                           [&#x27;Po&#x27;, &#x27;Fa&#x27;, &#x27;TA&#x27;, &#x27;Gd&#x27;, &#x27;Ex&#x27;],\n",
       "                           [&#x27;Na&#x27;, &#x27;Po&#x27;, &#x27;Fa&#x27;, &#x27;TA&#x27;, &#x27;Gd&#x27;, &#x27;Ex&#x27;],\n",
       "                           [&#x27;Na&#x27;, &#x27;Po&#x27;, &#x27;Fa&#x27;, &#x27;TA&#x27;, &#x27;Gd&#x27;, &#x27;Ex&#x27;],\n",
       "                           [&#x27;NA&#x27;, &#x27;No&#x27;, &#x27;Mn&#x27;, &#x27;Av&#x27;, &#x27;Gd&#x27;],\n",
       "                           [&#x27;NA&#x27;, &#x27;Unf&#x27;, &#x27;LwQ&#x27;, &#x27;Rec&#x27;, &#x27;BLQ&#x27;, &#x27;ALQ&#x27;, &#x27;GLQ&#x27;],\n",
       "                           [&#x27;NA&#x27;, &#x27;Unf&#x27;, &#x27;LwQ&#x27;, &#x27;Rec&#x27;, &#x27;BLQ&#x27;, &#x27;ALQ&#x27;, &#x27;GLQ&#x27;],\n",
       "                           [&#x27;Po&#x27;, &#x27;Fa&#x27;, &#x27;TA&#x27;, &#x27;Gd&#x27;, &#x27;Ex&#x27;],\n",
       "                           [&#x27;Po&#x27;, &#x27;Fa&#x27;, &#x27;TA&#x27;, &#x27;Gd&#x27;, &#x27;Ex&#x27;],\n",
       "                           [&#x27;Na&#x27;, &#x27;Po&#x27;, &#x27;Fa&#x27;, &#x27;TA&#x27;, &#x27;Gd&#x27;, &#x27;Ex&#x27;],\n",
       "                           [&#x27;NA&#x27;, &#x27;Unf&#x27;, &#x27;RFn&#x27;, &#x27;Fin&#x27;],\n",
       "                           [&#x27;Na&#x27;, &#x27;Po&#x27;, &#x27;Fa&#x27;, &#x27;TA&#x27;, &#x27;Gd&#x27;, &#x27;Ex&#x27;],\n",
       "                           [&#x27;Na&#x27;, &#x27;Po&#x27;, &#x27;Fa&#x27;, &#x27;TA&#x27;, &#x27;Gd&#x27;, &#x27;Ex&#x27;],\n",
       "                           [&#x27;Na&#x27;, &#x27;Po&#x27;, &#x27;Fa&#x27;, &#x27;TA&#x27;, &#x27;Gd&#x27;, &#x27;Ex&#x27;],\n",
       "                           [&#x27;Na&#x27;, &#x27;MnWw&#x27;, &#x27;GdWo&#x27;, &#x27;MnPrv&#x27;, &#x27;GdPrv&#x27;]],\n",
       "               handle_unknown=&#x27;use_encoded_value&#x27;, unknown_value=-1)</pre></div></div></div></div></div></div></div></div></div></div></div></div>"
      ],
      "text/plain": [
       "ColumnTransformer(transformers=[('num',\n",
       "                                 Pipeline(steps=[('simpleimputer',\n",
       "                                                  SimpleImputer())]),\n",
       "                                 Index(['MSSubClass', 'LotFrontage', 'LotArea', 'OverallQual', 'OverallCond',\n",
       "       'YearBuilt', 'YearRemodAdd', 'MasVnrArea', 'BsmtFinSF1', 'BsmtFinSF2',\n",
       "       'BsmtUnfSF', 'TotalBsmtSF', '1stFlrSF', '2ndFlrSF', 'LowQualFinSF',\n",
       "       'GrLivArea', 'BsmtFullBath', 'BsmtHalfBath', 'FullBath', 'Half...\n",
       "                                                                              'Gd',\n",
       "                                                                              'Ex'],\n",
       "                                                                             ['Na',\n",
       "                                                                              'Po',\n",
       "                                                                              'Fa',\n",
       "                                                                              'TA',\n",
       "                                                                              'Gd',\n",
       "                                                                              'Ex'],\n",
       "                                                                             ['Na',\n",
       "                                                                              'MnWw',\n",
       "                                                                              'GdWo',\n",
       "                                                                              'MnPrv',\n",
       "                                                                              'GdPrv']],\n",
       "                                                                 handle_unknown='use_encoded_value',\n",
       "                                                                 unknown_value=-1))]),\n",
       "                                 Index(['ExterQual', 'ExterCond', 'BsmtQual', 'BsmtCond', 'BsmtExposure',\n",
       "       'BsmtFinType1', 'BsmtFinType2', 'HeatingQC', 'KitchenQual',\n",
       "       'FireplaceQu', 'GarageFinish', 'GarageQual', 'GarageCond', 'PoolQC',\n",
       "       'Fence'],\n",
       "      dtype='object'))])"
      ]
     },
     "execution_count": 4,
     "metadata": {},
     "output_type": "execute_result"
    }
   ],
   "source": [
    "from sklearn.pipeline import make_pipeline\n",
    "from sklearn.impute import SimpleImputer\n",
    "from sklearn.preprocessing import StandardScaler, OneHotEncoder, OrdinalEncoder\n",
    "from sklearn.compose import ColumnTransformer\n",
    "\n",
    "# variables for the three pipes\n",
    "X_num_columns = X.select_dtypes(include='number').copy()\n",
    "X_cat_columns = X.select_dtypes(exclude='number').copy()\n",
    "X_cat_ordered_columns = X_cat_columns[ordered_categories_column_names]\n",
    "X_cat_unordered_columns = X_cat_columns.drop(\n",
    "    ordered_categories_column_names, axis=1)\n",
    "\n",
    "# NUMERICAL PIPE with SimpleImputer(strategy=\"mean\")\n",
    "numeric_pipe = make_pipeline(\n",
    "    SimpleImputer(),\n",
    ")\n",
    "\n",
    "# CATEGORICAL PIPE with SimpleImputer(fill_value=\"N_A\") and OneHotEncoder\n",
    "unordered_categoric_pipe = make_pipeline(\n",
    "    SimpleImputer(strategy=\"constant\", fill_value=\"N_A\"),\n",
    "    OneHotEncoder(sparse_output=False, handle_unknown='ignore')\n",
    ")\n",
    "\n",
    "# CATEGORICAL PIPE with SimpleImputer(fill_value=\"N_A\") and OrdinalEncoder\n",
    "ordered_categoric_pipe = make_pipeline(\n",
    "    SimpleImputer(strategy=\"constant\", fill_value=\"N_A\"),\n",
    "    OrdinalEncoder(categories=ordinal_cats_list,\n",
    "                   handle_unknown='use_encoded_value', unknown_value=-1)\n",
    ")\n",
    "\n",
    "# Create a ColumnTransformer to apply the transformers to the appropriate columns\n",
    "# i.e. we glue the three pipes in a single object\n",
    "preprocessor = ColumnTransformer(\n",
    "    transformers=[\n",
    "        ('num', numeric_pipe, X_num_columns.columns),\n",
    "        ('unordered', unordered_categoric_pipe, X_cat_unordered_columns.columns),\n",
    "        ('ordered', ordered_categoric_pipe, X_cat_ordered_columns.columns)\n",
    "    ])\n",
    "preprocessor"
   ]
  },
  {
   "cell_type": "markdown",
   "id": "53ddc7a4-3379-43ba-bab0-3b98c0d2b716",
   "metadata": {
    "jp-MarkdownHeadingCollapsed": true,
    "tags": []
   },
   "source": [
    "## 2. Model testing and their score"
   ]
  },
  {
   "cell_type": "markdown",
   "id": "65f5c03a-004a-43bf-81ae-00e96f871519",
   "metadata": {},
   "source": [
    "To monitor the score we use both the R^2 score (1 ist best, -1 worst, 0 average) and the RMSE ( should be small and the difference should be small between train and test). We visualize the results in the following table:"
   ]
  },
  {
   "cell_type": "code",
   "execution_count": 5,
   "id": "f908b477-76af-4320-b3cc-8202c5c60da9",
   "metadata": {},
   "outputs": [
    {
     "data": {
      "text/html": [
       "<div>\n",
       "<style scoped>\n",
       "    .dataframe tbody tr th:only-of-type {\n",
       "        vertical-align: middle;\n",
       "    }\n",
       "\n",
       "    .dataframe tbody tr th {\n",
       "        vertical-align: top;\n",
       "    }\n",
       "\n",
       "    .dataframe thead th {\n",
       "        text-align: right;\n",
       "    }\n",
       "</style>\n",
       "<table border=\"1\" class=\"dataframe\">\n",
       "  <thead>\n",
       "    <tr style=\"text-align: right;\">\n",
       "      <th></th>\n",
       "      <th>Regression model</th>\n",
       "      <th>R^2 Score Train</th>\n",
       "      <th>R^2 Score Test</th>\n",
       "      <th>RMSE Score Train</th>\n",
       "      <th>RMSE Score Test</th>\n",
       "    </tr>\n",
       "  </thead>\n",
       "  <tbody>\n",
       "    <tr>\n",
       "      <th>0</th>\n",
       "      <td></td>\n",
       "      <td></td>\n",
       "      <td></td>\n",
       "      <td></td>\n",
       "      <td></td>\n",
       "    </tr>\n",
       "  </tbody>\n",
       "</table>\n",
       "</div>"
      ],
      "text/plain": [
       "  Regression model R^2 Score Train R^2 Score Test RMSE Score Train  \\\n",
       "0                                                                    \n",
       "\n",
       "  RMSE Score Test  \n",
       "0                  "
      ]
     },
     "execution_count": 5,
     "metadata": {},
     "output_type": "execute_result"
    }
   ],
   "source": [
    "from sklearn.metrics import r2_score, mean_squared_error\n",
    "scores = pd.DataFrame(\n",
    "    {\"Regression model\": [\"\"], \"R^2 Score Train\": [\"\"], \"R^2 Score Test\": [\"\"], \"RMSE Score Train\": [\"\"], \"RMSE Score Test\": [\"\"]})\n",
    "\n",
    "scores"
   ]
  },
  {
   "cell_type": "markdown",
   "id": "57a8647f-7320-45c5-b2f9-9ebe23fea5a4",
   "metadata": {
    "jp-MarkdownHeadingCollapsed": true,
    "tags": []
   },
   "source": [
    "### 2.1 Linear Regressor"
   ]
  },
  {
   "cell_type": "code",
   "execution_count": 6,
   "id": "184d99c6-8a76-44a2-a3da-4d7aed4b7748",
   "metadata": {},
   "outputs": [
    {
     "data": {
      "text/html": [
       "<div>\n",
       "<style scoped>\n",
       "    .dataframe tbody tr th:only-of-type {\n",
       "        vertical-align: middle;\n",
       "    }\n",
       "\n",
       "    .dataframe tbody tr th {\n",
       "        vertical-align: top;\n",
       "    }\n",
       "\n",
       "    .dataframe thead th {\n",
       "        text-align: right;\n",
       "    }\n",
       "</style>\n",
       "<table border=\"1\" class=\"dataframe\">\n",
       "  <thead>\n",
       "    <tr style=\"text-align: right;\">\n",
       "      <th></th>\n",
       "      <th>Regression model</th>\n",
       "      <th>R^2 Score Train</th>\n",
       "      <th>R^2 Score Test</th>\n",
       "      <th>RMSE Score Train</th>\n",
       "      <th>RMSE Score Test</th>\n",
       "    </tr>\n",
       "  </thead>\n",
       "  <tbody>\n",
       "    <tr>\n",
       "      <th>0</th>\n",
       "      <td></td>\n",
       "      <td></td>\n",
       "      <td></td>\n",
       "      <td></td>\n",
       "      <td></td>\n",
       "    </tr>\n",
       "    <tr>\n",
       "      <th>0</th>\n",
       "      <td>Linear Regressor</td>\n",
       "      <td>0.92</td>\n",
       "      <td>0.85</td>\n",
       "      <td>21700.71</td>\n",
       "      <td>32745.96</td>\n",
       "    </tr>\n",
       "  </tbody>\n",
       "</table>\n",
       "</div>"
      ],
      "text/plain": [
       "   Regression model R^2 Score Train R^2 Score Test RMSE Score Train  \\\n",
       "0                                                                     \n",
       "0  Linear Regressor            0.92           0.85         21700.71   \n",
       "\n",
       "  RMSE Score Test  \n",
       "0                  \n",
       "0        32745.96  "
      ]
     },
     "execution_count": 6,
     "metadata": {},
     "output_type": "execute_result"
    }
   ],
   "source": [
    "from sklearn.linear_model import LinearRegression\n",
    "\n",
    "# Combine the preprocessor and the model into a single pipeline\n",
    "pipeline = make_pipeline(preprocessor, LinearRegression())\n",
    "\n",
    "# Fit the pipeline to the training data\n",
    "pipeline.fit(X_train, y_train)\n",
    "\n",
    "# Make predictions\n",
    "y_train_pred = pipeline.predict(X_train)\n",
    "y_test_pred = pipeline.predict(X_test)\n",
    "\n",
    "# Metrics\n",
    "train_rmse_lr = mean_squared_error(y_train, y_train_pred, squared=False)\n",
    "test_rmse_lr = mean_squared_error(y_test, y_test_pred, squared=False)\n",
    "train_r2_lr = r2_score(y_train, y_train_pred)\n",
    "test_r2_lr = r2_score(y_test, y_test_pred)\n",
    "\n",
    "# Update the score dataframe\n",
    "scores = pd.concat([scores, pd.DataFrame(\n",
    "    {\"Regression model\": ['Linear Regressor'], \"R^2 Score Train\":[round(train_r2_lr,2)], \"R^2 Score Test\": [round(test_r2_lr,2)],\n",
    "     \"RMSE Score Train\": [round(train_rmse_lr,2)],\"RMSE Score Test\": [round(test_rmse_lr,2)]})], axis=0)\n",
    "scores\n"
   ]
  },
  {
   "cell_type": "markdown",
   "id": "deb62eee-40e2-4cc6-9b95-18177ef4f8b9",
   "metadata": {},
   "source": [
    "Below we introduce a function for updating the scores dataframe"
   ]
  },
  {
   "cell_type": "code",
   "execution_count": 7,
   "id": "18e08602-d8c5-4c6f-be09-c1edf3e1a1f4",
   "metadata": {},
   "outputs": [],
   "source": [
    "def update_scores(scores, model_name, train_r2, test_r2, train_RMSE, test_RMSE):\n",
    "    return pd.concat([scores, pd.DataFrame(\n",
    "    {\"Regression model\": [model_name], \"R^2 Score Train\":[round(train_r2,2)], \"R^2 Score Test\": [round(test_r2,2)],\n",
    "     \"RMSE Score Train\": [round(train_RMSE,2)],\"RMSE Score Test\": [round(test_RMSE,2)]})], axis=0)"
   ]
  },
  {
   "cell_type": "markdown",
   "id": "1b71c945-2164-49ae-a99e-4c361586b58e",
   "metadata": {
    "jp-MarkdownHeadingCollapsed": true,
    "tags": []
   },
   "source": [
    "#### 2.1.1 Linear Regressor with RFE"
   ]
  },
  {
   "cell_type": "code",
   "execution_count": 8,
   "id": "d2366704-e3b3-4306-bcac-f11a10389717",
   "metadata": {},
   "outputs": [
    {
     "ename": "NameError",
     "evalue": "name 'RFE' is not defined",
     "output_type": "error",
     "traceback": [
      "\u001b[0;31m---------------------------------------------------------------------------\u001b[0m",
      "\u001b[0;31mNameError\u001b[0m                                 Traceback (most recent call last)",
      "Cell \u001b[0;32mIn[8], line 3\u001b[0m\n\u001b[1;32m      1\u001b[0m \u001b[38;5;66;03m# initialize the pipe\u001b[39;00m\n\u001b[1;32m      2\u001b[0m full_pipeline_ran \u001b[38;5;241m=\u001b[39m make_pipeline(\n\u001b[0;32m----> 3\u001b[0m     preprocessor, StandardScaler(), \u001b[43mRFE\u001b[49m(estimator\u001b[38;5;241m=\u001b[39mLinearRegression()))\n\u001b[1;32m      5\u001b[0m \u001b[38;5;66;03m# parameter grid\u001b[39;00m\n\u001b[1;32m      6\u001b[0m param_grid_ran \u001b[38;5;241m=\u001b[39m {\n\u001b[1;32m      7\u001b[0m     \u001b[38;5;124m\"\u001b[39m\u001b[38;5;124mcolumntransformer__num__simpleimputer__strategy\u001b[39m\u001b[38;5;124m\"\u001b[39m: [\u001b[38;5;124m\"\u001b[39m\u001b[38;5;124mmean\u001b[39m\u001b[38;5;124m\"\u001b[39m, \u001b[38;5;124m\"\u001b[39m\u001b[38;5;124mmedian\u001b[39m\u001b[38;5;124m\"\u001b[39m],\n\u001b[1;32m      8\u001b[0m     \u001b[38;5;124m\"\u001b[39m\u001b[38;5;124mstandardscaler__with_mean\u001b[39m\u001b[38;5;124m\"\u001b[39m: [\u001b[38;5;28;01mTrue\u001b[39;00m, \u001b[38;5;28;01mFalse\u001b[39;00m],\n\u001b[0;32m   (...)\u001b[0m\n\u001b[1;32m     12\u001b[0m     \u001b[38;5;66;03m# \"rfe__estimator__min_samples_split\": [2, 5, 10],\u001b[39;00m\n\u001b[1;32m     13\u001b[0m }\n",
      "\u001b[0;31mNameError\u001b[0m: name 'RFE' is not defined"
     ]
    }
   ],
   "source": [
    "# initialize the pipe\n",
    "full_pipeline_ran = make_pipeline(\n",
    "    preprocessor, StandardScaler(), RFE(estimator=LinearRegression()))\n",
    "\n",
    "# parameter grid\n",
    "param_grid_ran = {\n",
    "    \"columntransformer__num__simpleimputer__strategy\": [\"mean\", \"median\"],\n",
    "    \"standardscaler__with_mean\": [True, False],\n",
    "    \"standardscaler__with_std\": [True, False]\n",
    "    # \"rfe__estimator__n_estimators\": [100, 200, 300],\n",
    "    # \"rfe__estimator__max_depth\": [None, 5, 11],\n",
    "    # \"rfe__estimator__min_samples_split\": [2, 5, 10],\n",
    "}\n",
    "\n",
    "# define cross validation\n",
    "search_ran = RandomizedSearchCV(full_pipeline_ran, param_grid_ran,\n",
    "                                n_iter=2, cv=7, scoring='r2', random_state=123, verbose=0)\n",
    "\n",
    "\n",
    "# fit\n",
    "search_ran.fit(X_train, y_train)\n",
    "y_train_pred_ran = search_ran.predict(X_train)\n",
    "y_test_pred_ran = search_ran.predict(X_test)\n",
    "\n",
    "# metrics\n",
    "train_rmse_lr_RFE = mean_squared_error(y_train, y_train_pred_ran, squared=False)\n",
    "test_rmse_lr_RFE = mean_squared_error(y_test, y_test_pred_ran, squared=False)\n",
    "train_r2_lr_RFE = r2_score(y_train, y_train_pred_ran)\n",
    "test_r2_lr_RFE = r2_score(y_test, y_test_pred_ran)\n",
    "\n",
    "# Update the score dataframe\n",
    "scores = update_scores(scores,'Linear Regressor RFE', train_r2_lr_RFE, test_r2_lr_RFE, train_rmse_lr_RFE, test_rtest_rmse_lr_RFEmse_dtr_kb)\n",
    "scores"
   ]
  },
  {
   "cell_type": "markdown",
   "id": "d0c67a6a-a75f-4216-9ecb-9364f62d5eb2",
   "metadata": {
    "jp-MarkdownHeadingCollapsed": true,
    "tags": []
   },
   "source": [
    "### 2.2 Decision Tree Regressor\n",
    "Here we also apply randomized grid search"
   ]
  },
  {
   "cell_type": "code",
   "execution_count": null,
   "id": "8ad4da25-3d14-4206-baf3-991ed0b42084",
   "metadata": {},
   "outputs": [],
   "source": [
    "from sklearn.model_selection import RandomizedSearchCV\n",
    "from sklearn.preprocessing import MinMaxScaler\n",
    "from sklearn.tree import DecisionTreeRegressor\n",
    "\n",
    "# initialize the pipe\n",
    "full_pipeline_dtR = make_pipeline(\n",
    "    preprocessor, DecisionTreeRegressor())\n",
    "\n",
    "# train a DecisionTree with GridSearch cross validation\n",
    "# parameter grid\n",
    "param_grid_dtR = {\n",
    "    'columntransformer__num__simpleimputer__strategy': ['mean', 'median'],\n",
    "    'decisiontreeregressor__max_depth': range(3, 10),\n",
    "    'decisiontreeregressor__min_samples_leaf': range(3, 10, 2),\n",
    "    'decisiontreeregressor__min_samples_split': range(3, 39, 3),\n",
    "    # 'decisiontreeregressor__max_leaf_nodes': range(1, 100),\n",
    "    # 'decisiontreeregressor__max_features': range(1,79)\n",
    "}\n",
    "\n",
    "# define cross validation\n",
    "search_dtR = RandomizedSearchCV(full_pipeline_dtR, param_grid_dtR,\n",
    "                                n_iter=2, cv=7, scoring='r2', random_state=123, verbose=0)\n",
    "\n",
    "\n",
    "# fit\n",
    "search_dtR.fit(X_train, y_train)\n",
    "y_train_pred_dtR = search_dtR.predict(X_train)\n",
    "y_test_pred_dtR = search_dtR.predict(X_test)\n",
    "\n",
    "#metrics\n",
    "train_rmse_dtr = mean_squared_error(y_train, y_train_pred_dtR, squared=False)\n",
    "test_rmse_dtr = mean_squared_error(y_test, y_test_pred_dtR, squared=False)\n",
    "train_r2_dtr = r2_score(y_train, y_train_pred_dtR)\n",
    "test_r2_dtr = r2_score(y_test, y_test_pred_dtR)\n",
    "\n",
    "# Update the score dataframe\n",
    " = update_scores(scores,'Decision Tree', train_r2_dtr, test_r2_dtr, train_rmse_dtr, test_rmse_dtr)\n",
    "scores"
   ]
  },
  {
   "cell_type": "markdown",
   "id": "5837f948-a063-4624-9d6f-fb150f4211c5",
   "metadata": {
    "jp-MarkdownHeadingCollapsed": true,
    "tags": []
   },
   "source": [
    "#### 2.2.1 DecisionTreeRegressor with Kbest"
   ]
  },
  {
   "cell_type": "code",
   "execution_count": null,
   "id": "a8216f5f-6c1d-44f0-a212-bcac766201c1",
   "metadata": {},
   "outputs": [],
   "source": [
    "from sklearn.feature_selection import SelectKBest, f_regression\n",
    "KBest = SelectKBest(score_func=f_regression)\n",
    "\n",
    "# initialize the pipe\n",
    "full_pipeline_dtR = make_pipeline(\n",
    "    preprocessor, KBest, DecisionTreeRegressor())\n",
    "\n",
    "# parameter grid\n",
    "param_grid_dtR = {\n",
    "    'columntransformer__num__simpleimputer__strategy': ['mean', 'median'],\n",
    "    'decisiontreeregressor__max_depth': range(3, 10),\n",
    "    'decisiontreeregressor__min_samples_leaf': range(3, 10, 2),\n",
    "    'decisiontreeregressor__min_samples_split': range(3, 39, 3),\n",
    "    'selectkbest__k': range(20, 65)\n",
    "    # 'decisiontreeregressor__max_leaf_nodes': range(1, 100),\n",
    "    # 'decisiontreeregressor__max_features': range(1,79)\n",
    "}\n",
    "\n",
    "# define cross validation\n",
    "search_dtR = RandomizedSearchCV(full_pipeline_dtR, param_grid_dtR,\n",
    "                                n_iter=2, cv=7, scoring='r2', random_state=123, verbose=0)\n",
    "\n",
    "\n",
    "# fit\n",
    "search_dtR.fit(X_train, y_train)\n",
    "y_train_pred_dtR = search_dtR.predict(X_train)\n",
    "y_test_pred_dtR = search_dtR.predict(X_test)\n",
    "\n",
    "train_rmse_dtr_kb = mean_squared_error(y_train, y_train_pred_dtR, squared=False)\n",
    "test_rmse_dtr_kb = mean_squared_error(y_test, y_test_pred_dtR, squared=False)\n",
    "train_r2_dtr_kb = r2_score(y_train, y_train_pred_dtR)\n",
    "test_r2_dtr_kb = r2_score(y_test, y_test_pred_dtR)\n",
    "\n",
    "# Update the score dataframe\n",
    "scores = update_scores(scores,'Decision Tree Kbest', train_r2_dtr_kb, test_r2_dtr_kb, train_rmse_dtr_kb, test_rmse_dtr_kb)\n",
    "scores"
   ]
  },
  {
   "cell_type": "markdown",
   "id": "d6483db0-1f98-4b80-80de-16021fe609a8",
   "metadata": {
    "jp-MarkdownHeadingCollapsed": true,
    "tags": []
   },
   "source": [
    "#### 2.2.1 DecisionTreeRegressor with RFE"
   ]
  },
  {
   "cell_type": "code",
   "execution_count": null,
   "id": "a9a26c4a-85b3-4684-a47c-c78610223010",
   "metadata": {},
   "outputs": [],
   "source": [
    "from sklearn.feature_selection import RFE\n",
    "\n",
    "# initialize the pipe\n",
    "full_pipeline_dtR = make_pipeline(\n",
    "    preprocessor, RFE(estimator=DecisionTreeRegressor()))\n",
    "\n",
    "# train a DecisionTree with GridSearch cross validation\n",
    "param_grid_dtR_RFE = {\n",
    "    # 'rfe__feature':column_names,\n",
    "    # 'rfe__importance':feature_importances,\n",
    "    'columntransformer__num__simpleimputer__strategy': ['mean', 'median'],\n",
    "    'rfe__estimator__min_samples_leaf': range(2),\n",
    "    'rfe__estimator__max_leaf_nodes': range(1, 40),\n",
    "    'rfe__estimator__max_features': range(1, 79)\n",
    "}\n",
    "\n",
    "# define cross validation\n",
    "search_dtR = RandomizedSearchCV(full_pipeline_dtR, param_grid_dtR_RFE,\n",
    "                                n_iter=10, cv=7, scoring='r2', random_state=123, verbose=0)\n",
    "\n",
    "\n",
    "# fit\n",
    "search_dtR.fit(X_train, y_train)\n",
    "y_train_pred_dtR = search_dtR.predict(X_train)\n",
    "y_test_pred_dtR = search_dtR.predict(X_test)\n",
    "\n",
    "# metric\n",
    "train_rmse_dtr_RFE = mean_squared_error(y_train, y_train_pred_dtR, squared=False)\n",
    "test_rmse_dtr_RFE = mean_squared_error(y_test, y_test_pred_dtR, squared=False)\n",
    "train_r2_dtr_RFE = r2_score(y_train, y_train_pred_dtR)\n",
    "test_r2_dtr_RFE = r2_score(y_test, y_test_pred_dtR)\n",
    "\n",
    "# Update the score dataframe\n",
    "scores = update_scores(scores,'Decision Tree RFE', train_r2_dtr_RFE, test_r2_dtr_RFE, train_rmse_dtr_RFE, test_rmse_dtr_RFE)\n",
    "scores"
   ]
  },
  {
   "cell_type": "markdown",
   "id": "69e20f1a-5b5a-428d-b18a-094a5d5736df",
   "metadata": {
    "jp-MarkdownHeadingCollapsed": true,
    "tags": []
   },
   "source": [
    "### 2.3 KNeighborsRegressor"
   ]
  },
  {
   "cell_type": "code",
   "execution_count": null,
   "id": "4487ffbd-e4ce-4f73-9233-3be1efca01b6",
   "metadata": {},
   "outputs": [],
   "source": [
    "from sklearn.neighbors import KNeighborsRegressor\n",
    "\n",
    "neigh = KNeighborsRegressor(n_neighbors=1)\n",
    "\n",
    "# initialize the pipe\n",
    "full_pipeline_neigh = make_pipeline(\n",
    "    preprocessor, neigh)\n",
    "\n",
    "# parameter grid\n",
    "param_grid_neigh = {\n",
    "    'columntransformer__num__simpleimputer__strategy': ['mean', 'median'],\n",
    "}\n",
    "\n",
    "# define cross validation\n",
    "search_neigh = RandomizedSearchCV(full_pipeline_neigh, param_grid_neigh,\n",
    "                                  n_iter=2, cv=7, scoring='neg_mean_absolute_percentage_error', random_state=123, verbose=0)\n",
    "\n",
    "\n",
    "# fit\n",
    "search_neigh.fit(X_train, y_train)\n",
    "y_train_pred_neigh = search_dtR.predict(X_train)\n",
    "y_test_pred_neigh = search_dtR.predict(X_test)\n",
    "\n",
    "#metrics\n",
    "train_rmse_kn = mean_squared_error(y_train, y_train_pred_neigh, squared=False)\n",
    "test_rmse_kn = mean_squared_error(y_test, y_test_pred_neigh, squared=False)\n",
    "train_r2_kn = r2_score(y_train, y_train_pred_neigh)\n",
    "test_r2_kn = r2_score(y_test, y_test_pred_neigh)\n",
    "\n",
    "# Update the score dataframe\n",
    "scores = update_scores(scores,'Kneighbors', train_r2_kn, test_r2_kn, train_rmse_kn, test_rmse_kn)\n",
    "scores"
   ]
  },
  {
   "cell_type": "markdown",
   "id": "8a006463-ccbd-4b29-96b9-eada8521bd26",
   "metadata": {
    "tags": []
   },
   "source": [
    "#### 2.3.1 Kneighbors with Kbest"
   ]
  },
  {
   "cell_type": "code",
   "execution_count": null,
   "id": "b9a69e51-6bfd-4467-b88f-8a9d3ec6ce77",
   "metadata": {},
   "outputs": [],
   "source": [
    "# initialize the pipe\n",
    "full_pipeline_neigh = make_pipeline(\n",
    "    preprocessor, KBest, neigh)\n",
    "full_pipeline_neigh\n",
    "\n",
    "# parameter grid\n",
    "param_grid_neigh = {\n",
    "    'columntransformer__num__simpleimputer__strategy': ['mean', 'median'],\n",
    "    'selectkbest__k': range(20, 65)\n",
    "}\n",
    "\n",
    "# define cross validation\n",
    "search_neigh = RandomizedSearchCV(full_pipeline_neigh, param_grid_neigh,\n",
    "                                  n_iter=2, cv=7, scoring='neg_mean_absolute_percentage_error', random_state=123, verbose=0)\n",
    "\n",
    "\n",
    "# fit\n",
    "search_neigh.fit(X_train, y_train)\n",
    "y_train_pred_neigh = search_dtR.predict(X_train)\n",
    "y_test_pred_neigh = search_dtR.predict(X_test)\n",
    "\n",
    "#metrics\n",
    "train_rmse_kn_kb = mean_squared_error(y_train, y_train_pred_neigh, squared=False)\n",
    "test_rmse_kn_kb = mean_squared_error(y_test, y_test_pred_neigh, squared=False)\n",
    "train_r2_kn_kb = r2_score(y_train, y_train_pred_neigh)\n",
    "test_r2_kn_kb = r2_score(y_test, y_test_pred_neigh)\n",
    "\n",
    "\n",
    "# Update the score dataframe\n",
    "scores = update_scores(scores,'Kneighbors Kbest', train_r2_kn_kb, test_r2_kn_kb, train_rmse_kn_kb, test_rmse_kn_kb)\n",
    "scores"
   ]
  },
  {
   "cell_type": "markdown",
   "id": "8815275c-2aff-46eb-b9ac-3b1e97a12c49",
   "metadata": {
    "jp-MarkdownHeadingCollapsed": true,
    "tags": []
   },
   "source": [
    "### 2.4 RandomForestRegressor"
   ]
  },
  {
   "cell_type": "code",
   "execution_count": null,
   "id": "2b78b3ff-7d2e-4fd9-8952-4e6603de44dd",
   "metadata": {},
   "outputs": [],
   "source": [
    "from sklearn.ensemble import RandomForestRegressor\n",
    "\n",
    "\n",
    "# initialize the pipe\n",
    "full_pipeline_ran = make_pipeline(\n",
    "    preprocessor, StandardScaler(), RandomForestRegressor(random_state=123))\n",
    "\n",
    "# parameter grid\n",
    "param_grid_ran = {\n",
    "    \"columntransformer__num__simpleimputer__strategy\": [\"mean\", \"median\"],\n",
    "    \"standardscaler__with_mean\": [True, False],\n",
    "    \"standardscaler__with_std\": [True, False],\n",
    "    \"randomforestregressor__n_estimators\": [100, 200, 300],\n",
    "    \"randomforestregressor__max_depth\": [None, 5, 11],\n",
    "    \"randomforestregressor__min_samples_split\": [2, 5, 10],\n",
    "}\n",
    "\n",
    "# define cross validation\n",
    "search_ran = RandomizedSearchCV(full_pipeline_ran, param_grid_ran,\n",
    "                                n_iter=2, cv=7, scoring='r2', random_state=123, verbose=0)\n",
    "\n",
    "\n",
    "# fit\n",
    "search_ran.fit(X_train, y_train)\n",
    "y_train_pred_ran = search_ran.predict(X_train)\n",
    "y_test_pred_ran = search_ran.predict(X_test)\n",
    "\n",
    "#metrics\n",
    "train_rmse_rf = mean_squared_error(y_train, y_train_pred_ran, squared=False)\n",
    "test_rmse_rf = mean_squared_error(y_test, y_test_pred_ran, squared=False)\n",
    "train_r2_rf = r2_score(y_train, y_train_pred_ran)\n",
    "test_r2_rf = r2_score(y_test, y_test_pred_ran)\n",
    "\n",
    "\n",
    "# Update the score dataframe\n",
    "scores = update_scores(scores,'Random Forest', train_r2_rf, test_r2_rf, train_rmse_rf, test_rmse_rf)\n",
    "scores"
   ]
  },
  {
   "cell_type": "markdown",
   "id": "bcd35f61-6b3d-42b2-9549-f05307762e8d",
   "metadata": {
    "jp-MarkdownHeadingCollapsed": true,
    "tags": []
   },
   "source": [
    "#### 2.4.1 Random Forest with Kbest"
   ]
  },
  {
   "cell_type": "code",
   "execution_count": null,
   "id": "2af80e6b-6359-4f03-a566-b24b2ce584e2",
   "metadata": {},
   "outputs": [],
   "source": [
    "# initialize the pipe\n",
    "full_pipeline_ran = make_pipeline(\n",
    "    preprocessor, StandardScaler(), KBest, RandomForestRegressor(random_state=123))\n",
    "\n",
    "# parameter grid\n",
    "param_grid_ran = {\n",
    "    \"columntransformer__num__simpleimputer__strategy\": [\"mean\", \"median\"],\n",
    "    \"standardscaler__with_mean\": [True, False],\n",
    "    \"standardscaler__with_std\": [True, False],\n",
    "    \"randomforestregressor__n_estimators\": [100, 200, 300],\n",
    "    \"randomforestregressor__max_depth\": [None, 5, 11],\n",
    "    \"randomforestregressor__min_samples_split\": [2, 5, 10],\n",
    "    'selectkbest__k': range(20, 65)\n",
    "}\n",
    "\n",
    "# define cross validation\n",
    "search_ran = RandomizedSearchCV(full_pipeline_ran, param_grid_ran,\n",
    "                                n_iter=2, cv=7, scoring='r2', random_state=123, verbose=0)\n",
    "\n",
    "\n",
    "# fit\n",
    "search_ran.fit(X_train, y_train)\n",
    "y_train_pred_ran = search_ran.predict(X_train)\n",
    "y_test_pred_ran = search_ran.predict(X_test)\n",
    "\n",
    "# metrics\n",
    "train_rmse_rf_kb = mean_squared_error(y_train, y_train_pred_ran, squared=False)\n",
    "test_rmse_rf_kb = mean_squared_error(y_test, y_test_pred_ran, squared=False)\n",
    "train_r2_rf_kb = r2_score(y_train, y_train_pred_ran)\n",
    "test_r2_rf_kb = r2_score(y_test, y_test_pred_ran)\n",
    "\n",
    "# Update the score dataframe\n",
    "scores = update_scores(scores,'Random Forest Kbest', train_r2_rf_kb, test_r2_rf_kb, train_rmse_rf_kb, test_rmse_rf_kb)\n",
    "scores"
   ]
  },
  {
   "cell_type": "markdown",
   "id": "31530c25-0a46-4810-add6-8a225a292c63",
   "metadata": {
    "jp-MarkdownHeadingCollapsed": true,
    "tags": []
   },
   "source": [
    "#### 2.4.2 Random Forest with variance threshold"
   ]
  },
  {
   "cell_type": "code",
   "execution_count": null,
   "id": "1de8471c-8814-4d18-ba06-3ab70c2d9f52",
   "metadata": {},
   "outputs": [],
   "source": [
    "# from sklearn.model_selection import GridSearchCV\n",
    "from sklearn.feature_selection import VarianceThreshold\n",
    "selector = VarianceThreshold(threshold=0.01)\n",
    "\n",
    "# initialize the pipe\n",
    "full_pipeline_ran = make_pipeline(\n",
    "    preprocessor, StandardScaler(), KBest, selector, RandomForestRegressor(random_state=123))\n",
    "\n",
    "# parameter grid\n",
    "param_grid_ran = {\n",
    "    \"columntransformer__num__simpleimputer__strategy\": [\"mean\", \"median\"],\n",
    "    \"standardscaler__with_mean\": [True, False],\n",
    "    \"standardscaler__with_std\": [True, False],\n",
    "    \"randomforestregressor__n_estimators\": [100, 200, 300],\n",
    "    \"randomforestregressor__max_depth\": [None, 5, 11],\n",
    "    \"randomforestregressor__min_samples_split\": [2, 5, 10],\n",
    "    'selectkbest__k': range(20, 65)\n",
    "}\n",
    "\n",
    "# define cross validation\n",
    "search_ran = RandomizedSearchCV(full_pipeline_ran, param_grid_ran,\n",
    "                                n_iter=2, cv=7, scoring='r2', random_state=123, verbose=0)\n",
    "\n",
    "\n",
    "# fit\n",
    "search_ran.fit(X_train, y_train)\n",
    "y_train_pred_ran = search_ran.predict(X_train)\n",
    "y_test_pred_ran = search_ran.predict(X_test)\n",
    "\n",
    "#metrics\n",
    "train_rmse_rf_vt = mean_squared_error(y_train, y_train_pred_ran, squared=False)\n",
    "test_rmse_rf_vt = mean_squared_error(y_test, y_test_pred_ran, squared=False)\n",
    "train_r2_rf_vt = r2_score(y_train, y_train_pred_ran)\n",
    "test_r2_rf_vt = r2_score(y_test, y_test_pred_ran)\n",
    "\n",
    "# Update the score dataframe\n",
    "scores = update_scores(scores,'Random Forest Variance Threshold', train_r2_rf_vt, test_r2_rf_vt, train_rmse_rf_vt, test_rmse_rf_vt)\n",
    "scores"
   ]
  },
  {
   "cell_type": "markdown",
   "id": "a5ccde8e-c4cb-47e6-85ee-64369d7a00f4",
   "metadata": {},
   "source": [
    "## 3. Conclusion"
   ]
  },
  {
   "cell_type": "code",
   "execution_count": null,
   "id": "044fe088-31eb-4779-b40b-4456168c1e69",
   "metadata": {},
   "outputs": [],
   "source": [
    "scores"
   ]
  }
 ],
 "metadata": {
  "kernelspec": {
   "display_name": "Python 3 (ipykernel)",
   "language": "python",
   "name": "python3"
  },
  "language_info": {
   "codemirror_mode": {
    "name": "ipython",
    "version": 3
   },
   "file_extension": ".py",
   "mimetype": "text/x-python",
   "name": "python",
   "nbconvert_exporter": "python",
   "pygments_lexer": "ipython3",
   "version": "3.10.9"
  }
 },
 "nbformat": 4,
 "nbformat_minor": 5
}
