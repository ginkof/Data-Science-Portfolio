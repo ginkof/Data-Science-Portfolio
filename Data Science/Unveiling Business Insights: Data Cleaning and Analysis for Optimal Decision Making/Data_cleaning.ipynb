{
 "cells": [
  {
   "cell_type": "markdown",
   "metadata": {
    "id": "ztcb-ye4px8o"
   },
   "source": [
    "### Week 2\n",
    "# Eniac Business Insights - Data cleaning"
   ]
  },
  {
   "cell_type": "markdown",
   "metadata": {
    "id": "bT_zp_qrp0OO"
   },
   "source": [
    "## Import modules and load data"
   ]
  },
  {
   "cell_type": "code",
   "execution_count": 1,
   "metadata": {
    "executionInfo": {
     "elapsed": 10146,
     "status": "ok",
     "timestamp": 1681204932361,
     "user": {
      "displayName": "Gian Andrea Inkof",
      "userId": "07489549244537631879"
     },
     "user_tz": -120
    },
    "id": "--q4jW-Lp2PS"
   },
   "outputs": [],
   "source": [
    "# import libraries\n",
    "import pandas as pd\n",
    "\n",
    "# load data\n",
    "def gd_path(file_id):\n",
    "    \"\"\"Generate a shareable link from Google Drive file id.\"\"\"\n",
    "    return f\"https://drive.google.com/uc?export=download&id={file_id}\"\n",
    "\n",
    "# Google Drive file ids\n",
    "files_id = {\n",
    "    \"products\": \"1afxwDXfl-7cQ_qLwyDitfcCx3u7WMvkU\",\n",
    "    \"orders\": \"1Vu0q91qZw6lqhIqbjoXYvYAQTmVHh6uZ\",\n",
    "    \"orderlines\": \"1FYhN_2AzTBFuWcfHaRuKcuCE6CWXsWtG\", \n",
    "    \"brands\": \"1m1ThDDIYRTTii-rqM5SEQjJ8McidJskD\"\n",
    "}\n",
    "\n",
    "# Read data from Google Drive\n",
    "products = pd.read_csv(gd_path(files_id[\"products\"]), sep=\",\")\n",
    "orders = pd.read_csv(gd_path(files_id[\"orders\"]), sep=\",\")\n",
    "orderlines = pd.read_csv(gd_path(files_id[\"orderlines\"]), sep=\",\")\n",
    "brands = pd.read_csv(gd_path(files_id[\"brands\"]), sep=\",\")\n"
   ]
  },
  {
   "cell_type": "markdown",
   "metadata": {
    "id": "78Tbp_-Np6u_"
   },
   "source": [
    "## Clean orders\n",
    "\n",
    "- Remove missing values\n",
    "- Change dates to datetime format\n",
    "- Recategorize order state \"Place Order\" as \"Pending\"?"
   ]
  },
  {
   "cell_type": "code",
   "execution_count": 2,
   "metadata": {
    "executionInfo": {
     "elapsed": 375,
     "status": "ok",
     "timestamp": 1681204932731,
     "user": {
      "displayName": "Gian Andrea Inkof",
      "userId": "07489549244537631879"
     },
     "user_tz": -120
    },
    "id": "_OgeMAJap-6C"
   },
   "outputs": [],
   "source": [
    "# Remove rows with missing values\n",
    "orders = orders.loc[~orders.total_paid.isna(), :]\n",
    "\n",
    "# Change dates to datetime format\n",
    "orders[\"created_date\"] = pd.to_datetime(orders[\"created_date\"])\n",
    "\n",
    "# Recategorize order state \"Place Order\" as \"Pending\"?\n",
    "# orders = orders.state.replace('Place Order', 'Pending')\n"
   ]
  },
  {
   "cell_type": "markdown",
   "metadata": {
    "id": "EO048C5cqBRH"
   },
   "source": [
    "## Clean orderlines\n",
    "\n",
    "- Change dates to datetime format\n",
    "- Remove prices with two decimal points\n",
    "- Convert prices to numerical data format\n",
    "- Drop product_id"
   ]
  },
  {
   "cell_type": "code",
   "execution_count": 3,
   "metadata": {
    "executionInfo": {
     "elapsed": 932,
     "status": "ok",
     "timestamp": 1681204933660,
     "user": {
      "displayName": "Gian Andrea Inkof",
      "userId": "07489549244537631879"
     },
     "user_tz": -120
    },
    "id": "k6x7k3vEqDEW"
   },
   "outputs": [],
   "source": [
    "# Change dates to datetime format\n",
    "orderlines[\"date\"] = pd.to_datetime(orderlines[\"date\"])\n",
    "\n",
    "# Remove prices with two decimal points\n",
    "two_dot_order_ids_list = orderlines.loc[orderlines.unit_price.str.contains(\"\\d+\\.\\d+\\.\\d+\"), \"id_order\"]\n",
    "orderlines = orderlines.loc[~orderlines.id_order.isin(two_dot_order_ids_list)]\n",
    "\n",
    "# Convert prices to numerical data format\n",
    "orderlines[\"unit_price\"] = pd.to_numeric(orderlines[\"unit_price\"])\n",
    "\n",
    "# Drop product_id\n",
    "orderlines = orderlines.drop(columns='product_id')\n"
   ]
  },
  {
   "cell_type": "markdown",
   "metadata": {
    "id": "3Emw0VQkqFI4"
   },
   "source": [
    "## Clean products\n",
    "\n",
    "- Drop duplicates\n",
    "- Remove/replace missing values\n",
    "- Fix decimal point problems in prices and promo_prices\n",
    "- Convert prices to numerical data type\n",
    "- Fix exponential values in type\n"
   ]
  },
  {
   "cell_type": "code",
   "execution_count": 4,
   "metadata": {
    "executionInfo": {
     "elapsed": 267,
     "status": "ok",
     "timestamp": 1681204933924,
     "user": {
      "displayName": "Gian Andrea Inkof",
      "userId": "07489549244537631879"
     },
     "user_tz": -120
    },
    "id": "moXID4blqJzU"
   },
   "outputs": [],
   "source": [
    "## Drop duplicates\n",
    "products.duplicated().sum()\n",
    "products = products.drop_duplicates()\n",
    "products = products.drop_duplicates(subset=['sku'])\n",
    "\n",
    "\n",
    "## Remove/replace missing values\n",
    "# price\n",
    "# --> Mostly Celly products\n",
    "# Could replace missing prices by promo_price assuming that there is only one \n",
    "# price but since it's only 0.2% of the data it's probably safer to just remove those rows\n",
    "products = products.loc[~products.price.isnull(),:]\n",
    "\n",
    "# type\n",
    "# --> Mostly (but not only!) Apple iPhones\n",
    "# Only 0.3% and not clear what to replace with, so drop lines\n",
    "products = products.loc[~products.type.isnull(),:]\n",
    "\n",
    "# desc\n",
    "# Ignore because the desciption is not important for the analysis\n",
    "\n",
    "\n",
    "## Fix double decimal point problem\n",
    "# Prices: \n",
    "# - move the first point one place to the right\n",
    "# - remove the second point\n",
    "double_point_idx_prices = products.price.str.contains('\\d+\\.\\d+\\.\\d+')\n",
    "products.loc[double_point_idx_prices,'price'] = products.loc[double_point_idx_prices,'price'].str.replace(r'(\\d+)\\.(\\d)(\\d+)\\.(\\d+)', r'\\1\\2.\\3\\4', regex=True)\n",
    "\n",
    "# Promo prices\n",
    "# - move the second point one place to the left\n",
    "# - remove the first point\n",
    "double_point_idx_promo_prices = products.promo_price.str.contains('\\d+\\.\\d+\\.\\d+')\n",
    "products.loc[double_point_idx_promo_prices,'promo_price'] = products.loc[double_point_idx_promo_prices,'promo_price'].str.replace(r'(\\d+)\\.(\\d+)(\\d)\\.(\\d+)$', r'\\1\\2.\\3\\4', regex=True)\n",
    "\n",
    "\n",
    "## Fix 3 decimal places problem: Move decimal point one place to the left\n",
    "# Prices\n",
    "triple_dec_idx_prices = products.price.str.contains('\\d+\\.\\d{3}$')\n",
    "products.loc[triple_dec_idx_prices & ~double_point_idx_prices,'price'] = products.loc[triple_dec_idx_prices & ~double_point_idx_prices,'price'].str.replace(r'(\\d*)(\\d)\\.(\\d{3})$', r'\\1.\\2\\3', regex=True)\n",
    "\n",
    "# Promo prices\n",
    "triple_dec_idx_promo_prices = products.promo_price.str.contains('\\d+\\.\\d{3}$')\n",
    "products.loc[triple_dec_idx_promo_prices & ~double_point_idx_promo_prices,'promo_price'] = products.loc[triple_dec_idx_promo_prices & ~double_point_idx_promo_prices,'promo_price'].str.replace(r'(\\d*)(\\d)\\.(\\d{3})$', r'\\1.\\2\\3', regex=True)\n",
    "\n",
    "\n",
    "## Convert prices to numerical data type and round to two decimal places\n",
    "products.loc[:,'price'] = pd.to_numeric(products['price']).round(2)\n",
    "products.loc[:,'promo_price'] = pd.to_numeric(products['promo_price']).round(2)\n",
    "\n",
    "\n",
    "## Fix exponential values in type\n",
    "# ...\n",
    "\n"
   ]
  },
  {
   "cell_type": "code",
   "execution_count": 5,
   "metadata": {
    "colab": {
     "base_uri": "https://localhost:8080/",
     "height": 1000
    },
    "executionInfo": {
     "elapsed": 12,
     "status": "ok",
     "timestamp": 1681204934544,
     "user": {
      "displayName": "Gian Andrea Inkof",
      "userId": "07489549244537631879"
     },
     "user_tz": -120
    },
    "id": "WX7dH4C-qTeJ",
    "outputId": "1b22bb22-c9b2-4f92-b52b-3c7e7e3f34e0"
   },
   "outputs": [
    {
     "name": "stdout",
     "output_type": "stream",
     "text": [
      "<class 'pandas.core.frame.DataFrame'>\n",
      "Int64Index: 10484 entries, 0 to 19325\n",
      "Data columns (total 7 columns):\n",
      " #   Column       Non-Null Count  Dtype  \n",
      "---  ------       --------------  -----  \n",
      " 0   sku          10484 non-null  object \n",
      " 1   name         10484 non-null  object \n",
      " 2   desc         10477 non-null  object \n",
      " 3   price        10484 non-null  float64\n",
      " 4   promo_price  10484 non-null  float64\n",
      " 5   in_stock     10484 non-null  int64  \n",
      " 6   type         10484 non-null  object \n",
      "dtypes: float64(2), int64(1), object(4)\n",
      "memory usage: 655.2+ KB\n"
     ]
    },
    {
     "data": {
      "text/html": [
       "\n",
       "  <div id=\"df-ea7dff38-f4d9-4a80-bf54-8780afaee987\">\n",
       "    <div class=\"colab-df-container\">\n",
       "      <div>\n",
       "<style scoped>\n",
       "    .dataframe tbody tr th:only-of-type {\n",
       "        vertical-align: middle;\n",
       "    }\n",
       "\n",
       "    .dataframe tbody tr th {\n",
       "        vertical-align: top;\n",
       "    }\n",
       "\n",
       "    .dataframe thead th {\n",
       "        text-align: right;\n",
       "    }\n",
       "</style>\n",
       "<table border=\"1\" class=\"dataframe\">\n",
       "  <thead>\n",
       "    <tr style=\"text-align: right;\">\n",
       "      <th></th>\n",
       "      <th>sku</th>\n",
       "      <th>name</th>\n",
       "      <th>desc</th>\n",
       "      <th>price</th>\n",
       "      <th>promo_price</th>\n",
       "      <th>in_stock</th>\n",
       "      <th>type</th>\n",
       "    </tr>\n",
       "  </thead>\n",
       "  <tbody>\n",
       "    <tr>\n",
       "      <th>18429</th>\n",
       "      <td>APP2660</td>\n",
       "      <td>Apple iMac Pro 27 \"18-core Intel Xeon W 23GHz ...</td>\n",
       "      <td>Pro iMac 27 inch screen Retina 5K and Intel Xe...</td>\n",
       "      <td>15339.00</td>\n",
       "      <td>14419.00</td>\n",
       "      <td>0</td>\n",
       "      <td>118692158</td>\n",
       "    </tr>\n",
       "    <tr>\n",
       "      <th>18465</th>\n",
       "      <td>APP2696</td>\n",
       "      <td>Apple iMac Pro 27 \"18-core Intel Xeon W 23GHz ...</td>\n",
       "      <td>Pro iMac 27 inch screen Retina 5K and Intel Xe...</td>\n",
       "      <td>14619.00</td>\n",
       "      <td>13742.01</td>\n",
       "      <td>0</td>\n",
       "      <td>118692158</td>\n",
       "    </tr>\n",
       "    <tr>\n",
       "      <th>18428</th>\n",
       "      <td>APP2659</td>\n",
       "      <td>Apple iMac Pro 27 \"14-core Intel Xeon W 25GHz ...</td>\n",
       "      <td>Pro iMac 27 inch screen Retina 5K and Intel Xe...</td>\n",
       "      <td>14379.00</td>\n",
       "      <td>13516.00</td>\n",
       "      <td>0</td>\n",
       "      <td>118692158</td>\n",
       "    </tr>\n",
       "    <tr>\n",
       "      <th>18464</th>\n",
       "      <td>APP2695</td>\n",
       "      <td>Apple iMac Pro 27 \"14-core Intel Xeon W 25GHz ...</td>\n",
       "      <td>Pro iMac 27 inch screen Retina 5K and Intel Xe...</td>\n",
       "      <td>13659.00</td>\n",
       "      <td>12839.01</td>\n",
       "      <td>0</td>\n",
       "      <td>118692158</td>\n",
       "    </tr>\n",
       "    <tr>\n",
       "      <th>18427</th>\n",
       "      <td>APP2658</td>\n",
       "      <td>Apple iMac Pro 27 \"10-core Intel Xeon 3GHz W |...</td>\n",
       "      <td>Pro iMac 27 inch screen Retina 5K and Intel Xe...</td>\n",
       "      <td>13419.00</td>\n",
       "      <td>12614.00</td>\n",
       "      <td>0</td>\n",
       "      <td>118692158</td>\n",
       "    </tr>\n",
       "    <tr>\n",
       "      <th>...</th>\n",
       "      <td>...</td>\n",
       "      <td>...</td>\n",
       "      <td>...</td>\n",
       "      <td>...</td>\n",
       "      <td>...</td>\n",
       "      <td>...</td>\n",
       "      <td>...</td>\n",
       "    </tr>\n",
       "    <tr>\n",
       "      <th>17075</th>\n",
       "      <td>SPE0194</td>\n",
       "      <td>Speck CandyShell Case Fit Apple Watch 42mm Tra...</td>\n",
       "      <td>rigid housing with compact design and double l...</td>\n",
       "      <td>1.65</td>\n",
       "      <td>19.99</td>\n",
       "      <td>0</td>\n",
       "      <td>2434</td>\n",
       "    </tr>\n",
       "    <tr>\n",
       "      <th>11086</th>\n",
       "      <td>KIN0138</td>\n",
       "      <td>Kingston microSDHC memory card 32GB UHS Class 1</td>\n",
       "      <td>Memory card microSDHC UHS Class 1 32GB with tr...</td>\n",
       "      <td>1.35</td>\n",
       "      <td>16.28</td>\n",
       "      <td>0</td>\n",
       "      <td>57445397</td>\n",
       "    </tr>\n",
       "    <tr>\n",
       "      <th>10933</th>\n",
       "      <td>SAN0102</td>\n",
       "      <td>SanDisk Ultra SDHC Class 10 | 16 GB</td>\n",
       "      <td>SDHC Memory Card Class 10 16GB transfer rate o...</td>\n",
       "      <td>0.91</td>\n",
       "      <td>11.00</td>\n",
       "      <td>1</td>\n",
       "      <td>57445397</td>\n",
       "    </tr>\n",
       "    <tr>\n",
       "      <th>2364</th>\n",
       "      <td>IFX0020</td>\n",
       "      <td>iFixit P5 Pentalobe Screwdriver</td>\n",
       "      <td>Pentalobe screwdriver P5 for MacBook Air and M...</td>\n",
       "      <td>0.91</td>\n",
       "      <td>10.99</td>\n",
       "      <td>0</td>\n",
       "      <td>14305406</td>\n",
       "    </tr>\n",
       "    <tr>\n",
       "      <th>669</th>\n",
       "      <td>SAN0044</td>\n",
       "      <td>SanDisk Ultra 16GB USB 3.0 Flash Drive</td>\n",
       "      <td>USB 3.0 flash drive 16GB USB Flash Drive Mac a...</td>\n",
       "      <td>0.83</td>\n",
       "      <td>1.00</td>\n",
       "      <td>1</td>\n",
       "      <td>11935397</td>\n",
       "    </tr>\n",
       "  </tbody>\n",
       "</table>\n",
       "<p>10484 rows × 7 columns</p>\n",
       "</div>\n",
       "      <button class=\"colab-df-convert\" onclick=\"convertToInteractive('df-ea7dff38-f4d9-4a80-bf54-8780afaee987')\"\n",
       "              title=\"Convert this dataframe to an interactive table.\"\n",
       "              style=\"display:none;\">\n",
       "        \n",
       "  <svg xmlns=\"http://www.w3.org/2000/svg\" height=\"24px\"viewBox=\"0 0 24 24\"\n",
       "       width=\"24px\">\n",
       "    <path d=\"M0 0h24v24H0V0z\" fill=\"none\"/>\n",
       "    <path d=\"M18.56 5.44l.94 2.06.94-2.06 2.06-.94-2.06-.94-.94-2.06-.94 2.06-2.06.94zm-11 1L8.5 8.5l.94-2.06 2.06-.94-2.06-.94L8.5 2.5l-.94 2.06-2.06.94zm10 10l.94 2.06.94-2.06 2.06-.94-2.06-.94-.94-2.06-.94 2.06-2.06.94z\"/><path d=\"M17.41 7.96l-1.37-1.37c-.4-.4-.92-.59-1.43-.59-.52 0-1.04.2-1.43.59L10.3 9.45l-7.72 7.72c-.78.78-.78 2.05 0 2.83L4 21.41c.39.39.9.59 1.41.59.51 0 1.02-.2 1.41-.59l7.78-7.78 2.81-2.81c.8-.78.8-2.07 0-2.86zM5.41 20L4 18.59l7.72-7.72 1.47 1.35L5.41 20z\"/>\n",
       "  </svg>\n",
       "      </button>\n",
       "      \n",
       "  <style>\n",
       "    .colab-df-container {\n",
       "      display:flex;\n",
       "      flex-wrap:wrap;\n",
       "      gap: 12px;\n",
       "    }\n",
       "\n",
       "    .colab-df-convert {\n",
       "      background-color: #E8F0FE;\n",
       "      border: none;\n",
       "      border-radius: 50%;\n",
       "      cursor: pointer;\n",
       "      display: none;\n",
       "      fill: #1967D2;\n",
       "      height: 32px;\n",
       "      padding: 0 0 0 0;\n",
       "      width: 32px;\n",
       "    }\n",
       "\n",
       "    .colab-df-convert:hover {\n",
       "      background-color: #E2EBFA;\n",
       "      box-shadow: 0px 1px 2px rgba(60, 64, 67, 0.3), 0px 1px 3px 1px rgba(60, 64, 67, 0.15);\n",
       "      fill: #174EA6;\n",
       "    }\n",
       "\n",
       "    [theme=dark] .colab-df-convert {\n",
       "      background-color: #3B4455;\n",
       "      fill: #D2E3FC;\n",
       "    }\n",
       "\n",
       "    [theme=dark] .colab-df-convert:hover {\n",
       "      background-color: #434B5C;\n",
       "      box-shadow: 0px 1px 3px 1px rgba(0, 0, 0, 0.15);\n",
       "      filter: drop-shadow(0px 1px 2px rgba(0, 0, 0, 0.3));\n",
       "      fill: #FFFFFF;\n",
       "    }\n",
       "  </style>\n",
       "\n",
       "      <script>\n",
       "        const buttonEl =\n",
       "          document.querySelector('#df-ea7dff38-f4d9-4a80-bf54-8780afaee987 button.colab-df-convert');\n",
       "        buttonEl.style.display =\n",
       "          google.colab.kernel.accessAllowed ? 'block' : 'none';\n",
       "\n",
       "        async function convertToInteractive(key) {\n",
       "          const element = document.querySelector('#df-ea7dff38-f4d9-4a80-bf54-8780afaee987');\n",
       "          const dataTable =\n",
       "            await google.colab.kernel.invokeFunction('convertToInteractive',\n",
       "                                                     [key], {});\n",
       "          if (!dataTable) return;\n",
       "\n",
       "          const docLinkHtml = 'Like what you see? Visit the ' +\n",
       "            '<a target=\"_blank\" href=https://colab.research.google.com/notebooks/data_table.ipynb>data table notebook</a>'\n",
       "            + ' to learn more about interactive tables.';\n",
       "          element.innerHTML = '';\n",
       "          dataTable['output_type'] = 'display_data';\n",
       "          await google.colab.output.renderOutput(dataTable, element);\n",
       "          const docLink = document.createElement('div');\n",
       "          docLink.innerHTML = docLinkHtml;\n",
       "          element.appendChild(docLink);\n",
       "        }\n",
       "      </script>\n",
       "    </div>\n",
       "  </div>\n",
       "  "
      ],
      "text/plain": [
       "           sku                                               name  \\\n",
       "18429  APP2660  Apple iMac Pro 27 \"18-core Intel Xeon W 23GHz ...   \n",
       "18465  APP2696  Apple iMac Pro 27 \"18-core Intel Xeon W 23GHz ...   \n",
       "18428  APP2659  Apple iMac Pro 27 \"14-core Intel Xeon W 25GHz ...   \n",
       "18464  APP2695  Apple iMac Pro 27 \"14-core Intel Xeon W 25GHz ...   \n",
       "18427  APP2658  Apple iMac Pro 27 \"10-core Intel Xeon 3GHz W |...   \n",
       "...        ...                                                ...   \n",
       "17075  SPE0194  Speck CandyShell Case Fit Apple Watch 42mm Tra...   \n",
       "11086  KIN0138    Kingston microSDHC memory card 32GB UHS Class 1   \n",
       "10933  SAN0102                SanDisk Ultra SDHC Class 10 | 16 GB   \n",
       "2364   IFX0020                    iFixit P5 Pentalobe Screwdriver   \n",
       "669    SAN0044             SanDisk Ultra 16GB USB 3.0 Flash Drive   \n",
       "\n",
       "                                                    desc     price  \\\n",
       "18429  Pro iMac 27 inch screen Retina 5K and Intel Xe...  15339.00   \n",
       "18465  Pro iMac 27 inch screen Retina 5K and Intel Xe...  14619.00   \n",
       "18428  Pro iMac 27 inch screen Retina 5K and Intel Xe...  14379.00   \n",
       "18464  Pro iMac 27 inch screen Retina 5K and Intel Xe...  13659.00   \n",
       "18427  Pro iMac 27 inch screen Retina 5K and Intel Xe...  13419.00   \n",
       "...                                                  ...       ...   \n",
       "17075  rigid housing with compact design and double l...      1.65   \n",
       "11086  Memory card microSDHC UHS Class 1 32GB with tr...      1.35   \n",
       "10933  SDHC Memory Card Class 10 16GB transfer rate o...      0.91   \n",
       "2364   Pentalobe screwdriver P5 for MacBook Air and M...      0.91   \n",
       "669    USB 3.0 flash drive 16GB USB Flash Drive Mac a...      0.83   \n",
       "\n",
       "       promo_price  in_stock       type  \n",
       "18429     14419.00         0  118692158  \n",
       "18465     13742.01         0  118692158  \n",
       "18428     13516.00         0  118692158  \n",
       "18464     12839.01         0  118692158  \n",
       "18427     12614.00         0  118692158  \n",
       "...            ...       ...        ...  \n",
       "17075        19.99         0       2434  \n",
       "11086        16.28         0   57445397  \n",
       "10933        11.00         1   57445397  \n",
       "2364         10.99         0   14305406  \n",
       "669           1.00         1   11935397  \n",
       "\n",
       "[10484 rows x 7 columns]"
      ]
     },
     "execution_count": 5,
     "metadata": {},
     "output_type": "execute_result"
    }
   ],
   "source": [
    "products.info()\n",
    "products.sort_values(by='price', ascending=False)"
   ]
  },
  {
   "cell_type": "code",
   "execution_count": 6,
   "metadata": {
    "colab": {
     "base_uri": "https://localhost:8080/",
     "height": 444
    },
    "executionInfo": {
     "elapsed": 2701,
     "status": "ok",
     "timestamp": 1681204937240,
     "user": {
      "displayName": "Gian Andrea Inkof",
      "userId": "07489549244537631879"
     },
     "user_tz": -120
    },
    "id": "_dQVcfhtO8Tl",
    "outputId": "fd5a0260-0938-49c1-b6b6-46b6d2c0bc9d"
   },
   "outputs": [
    {
     "data": {
      "text/plain": [
       "<Axes: >"
      ]
     },
     "execution_count": 6,
     "metadata": {},
     "output_type": "execute_result"
    },
    {
     "data": {
      "image/png": "[encoded data removed]",
      "text/plain": [
       "<Figure size 2000x500 with 1 Axes>"
      ]
     },
     "metadata": {},
     "output_type": "display_data"
    }
   ],
   "source": [
    "products.groupby('type').first().sample(20)\n",
    "#Let's search for a correlation between type and e.g. price\n",
    "products[\"type\"].value_counts().plot.bar(figsize=(20,5))"
   ]
  },
  {
   "cell_type": "markdown",
   "metadata": {
    "id": "GHRp3_upSocr"
   },
   "source": [
    "# Business questions\n",
    "\n"
   ]
  },
  {
   "cell_type": "markdown",
   "metadata": {
    "id": "e5g2OWA4TIWZ"
   },
   "source": [
    "## 1.&nbsp; How should products be classified into different categories to simplify reports and analysis?\n"
   ]
  },
  {
   "cell_type": "markdown",
   "metadata": {
    "id": "kQ3f9qBFTlhz"
   },
   "source": [
    "Ideas for categories:\n",
    "\n",
    "\n",
    "*   **Price ranges**: \"low\", \"medium\", \"high\", \"very high\"\n",
    "*   **Type of product**: based on the first 3 letters of the sku we might be able to identify which kind of service we have\n",
    "\n"
   ]
  },
  {
   "cell_type": "code",
   "execution_count": 7,
   "metadata": {
    "colab": {
     "base_uri": "https://localhost:8080/",
     "height": 514
    },
    "executionInfo": {
     "elapsed": 988,
     "status": "ok",
     "timestamp": 1681204938225,
     "user": {
      "displayName": "Gian Andrea Inkof",
      "userId": "07489549244537631879"
     },
     "user_tz": -120
    },
    "id": "6JGhugqRcyrN",
    "outputId": "130d7e3f-d0dc-48d5-8f22-8bae9af8bf0e"
   },
   "outputs": [
    {
     "name": "stdout",
     "output_type": "stream",
     "text": [
      "The max price is 15339.0 while the minimum is 0.83\n"
     ]
    },
    {
     "data": {
      "text/plain": [
       "array([[<Axes: title={'center': 'price'}>]], dtype=object)"
      ]
     },
     "execution_count": 7,
     "metadata": {},
     "output_type": "execute_result"
    },
    {
     "data": {
      "image/png": "[encoded data removed]",
      "text/plain": [
       "<Figure size 640x480 with 1 Axes>"
      ]
     },
     "metadata": {},
     "output_type": "display_data"
    }
   ],
   "source": [
    "#Price ranges\n",
    "\n",
    "#We first make an exploratory analysis of prices\n",
    "max_price = products[\"price\"].max()\n",
    "min_price = products[\"price\"].min()\n",
    "print(f\"The max price is {max_price} while the minimum is {min_price}\")\n",
    "products[[\"price\"]].hist(bins=50)"
   ]
  },
  {
   "cell_type": "code",
   "execution_count": 8,
   "metadata": {
    "executionInfo": {
     "elapsed": 16,
     "status": "ok",
     "timestamp": 1681204938226,
     "user": {
      "displayName": "Gian Andrea Inkof",
      "userId": "07489549244537631879"
     },
     "user_tz": -120
    },
    "id": "faqGjgrRc3b0"
   },
   "outputs": [],
   "source": [
    "# We divide the price into 5 categories from very cheap to very expensive\n",
    "bins = [0, 20, 50, 100, 500, float('inf')]\n",
    "labels = ['very cheap', 'cheap', 'medium', 'expensive', 'very expensive']\n",
    "\n",
    "# Utilizzo della funzione pd.cut() per creare una nuova colonna \"price_range\"\n",
    "products['price_range'] = pd.cut(products['price'], bins=bins, labels=labels)\n",
    "#products"
   ]
  },
  {
   "cell_type": "code",
   "execution_count": 9,
   "metadata": {
    "executionInfo": {
     "elapsed": 14,
     "status": "ok",
     "timestamp": 1681204938226,
     "user": {
      "displayName": "Gian Andrea Inkof",
      "userId": "07489549244537631879"
     },
     "user_tz": -120
    },
    "id": "HH31o9QGgWIi"
   },
   "outputs": [],
   "source": [
    "#Relation type of apple product (iMac, Macbook, iPad, iPhone, Watch) and sku or price_range\n",
    "\n",
    "#products_imac=products.loc[(products[\"name\"].str.contains(\"iMac\")),[\"sku\",\"name\",\"price\",\"price_range\"]].sort_values(by=\"price\", ascending=False).copy()\n",
    "#products_imac.loc[(products[\"price_range\"]==\"very cheap\") | (products[\"price_range\"]==\"cheap\"),:]\n",
    "#products.loc[(products[\"price\"]>100) & (products[\"price\"]<150) ,:].sort_values(by=\"price\",ascending=False)"
   ]
  },
  {
   "cell_type": "markdown",
   "metadata": {
    "id": "IZ-c6VeZTIsP"
   },
   "source": [
    "\n",
    "## 2.&nbsp; What is the distribution of product prices across different categories?"
   ]
  },
  {
   "cell_type": "code",
   "execution_count": 10,
   "metadata": {
    "colab": {
     "base_uri": "https://localhost:8080/",
     "height": 562
    },
    "executionInfo": {
     "elapsed": 13,
     "status": "ok",
     "timestamp": 1681204938226,
     "user": {
      "displayName": "Gian Andrea Inkof",
      "userId": "07489549244537631879"
     },
     "user_tz": -120
    },
    "id": "NpxoR6hvlUs9",
    "outputId": "2d9fcf90-65e9-4f0d-9a19-db2993de5153"
   },
   "outputs": [
    {
     "data": {
      "text/plain": [
       "<Axes: >"
      ]
     },
     "execution_count": 10,
     "metadata": {},
     "output_type": "execute_result"
    },
    {
     "data": {
      "image/png": "[encoded data removed]",
      "text/plain": [
       "<Figure size 640x480 with 1 Axes>"
      ]
     },
     "metadata": {},
     "output_type": "display_data"
    }
   ],
   "source": [
    "products.price_range.value_counts().plot.bar(color=[\"paleturquoise\",\"paleturquoise\",\"paleturquoise\",\"paleturquoise\",\"paleturquoise\"])"
   ]
  },
  {
   "cell_type": "markdown",
   "metadata": {
    "id": "AuF3PYavTJIQ"
   },
   "source": [
    "## 3.&nbsp; How many products are being discounted?\n"
   ]
  },
  {
   "cell_type": "code",
   "execution_count": 11,
   "metadata": {
    "colab": {
     "base_uri": "https://localhost:8080/"
    },
    "executionInfo": {
     "elapsed": 378,
     "status": "ok",
     "timestamp": 1681204938597,
     "user": {
      "displayName": "Gian Andrea Inkof",
      "userId": "07489549244537631879"
     },
     "user_tz": -120
    },
    "id": "q47mYi-wmKeT",
    "outputId": "8c610fd3-cf80-4f2e-f2d6-99a85e0fd0db"
   },
   "outputs": [
    {
     "name": "stdout",
     "output_type": "stream",
     "text": [
      "There are 834 with 1 unit_pice, 5838 with more and 3812 with 0.\n"
     ]
    }
   ],
   "source": [
    "#We compare product[\"price\"] with orderlines[\"unit_price\"] (the unitary price (in euros) of each product at the moment of placing that order)\n",
    "#If orderlines[\"unit_price\"] < product[\"price\"] the product has been discounted\n",
    "\n",
    "prod_orderlines = products.merge(\n",
    "    orderlines,\n",
    "    how = \"left\",\n",
    "    left_on=\"sku\",\n",
    "    right_on=\"sku\"\n",
    ")[[\"sku\",\"name\",\"desc\",\"price\",\"unit_price\",\"date\"]]\n",
    "\n",
    "aaa= prod_orderlines.groupby(by=\"sku\").agg(\"count\").reset_index().sort_values(\"unit_price\")\n",
    "print(f\"There are {aaa.loc[aaa['unit_price']==1,:].shape[0]} with 1 unit_pice, {aaa.loc[aaa['unit_price']>1,:].shape[0]} with more and {aaa.loc[aaa['unit_price']==0,:].shape[0]} with 0.\")\n",
    "\n",
    "#Shall we 1) exclude those sku with unit_price = 0, unite_price > price, count(unit_price)>1?"
   ]
  },
  {
   "cell_type": "code",
   "execution_count": 11,
   "metadata": {
    "executionInfo": {
     "elapsed": 7,
     "status": "ok",
     "timestamp": 1681204938598,
     "user": {
      "displayName": "Gian Andrea Inkof",
      "userId": "07489549244537631879"
     },
     "user_tz": -120
    },
    "id": "ewToj7xTrzla"
   },
   "outputs": [],
   "source": []
  },
  {
   "cell_type": "code",
   "execution_count": 11,
   "metadata": {
    "executionInfo": {
     "elapsed": 6,
     "status": "ok",
     "timestamp": 1681204938598,
     "user": {
      "displayName": "Gian Andrea Inkof",
      "userId": "07489549244537631879"
     },
     "user_tz": -120
    },
    "id": "hedvM1T5oZ_u"
   },
   "outputs": [],
   "source": []
  },
  {
   "cell_type": "markdown",
   "metadata": {
    "id": "yQxnHXzDTJgJ"
   },
   "source": [
    "## 4.&nbsp; How big are the offered discounts as a percentage of the product prices?\n"
   ]
  },
  {
   "cell_type": "markdown",
   "metadata": {
    "id": "9Zf5VCgaTJxg"
   },
   "source": [
    "## 5.&nbsp; How do seasonality and special dates (Christmas, Black Friday) affect sales?\n"
   ]
  },
  {
   "cell_type": "markdown",
   "metadata": {
    "id": "OmY41KoVTarW"
   },
   "source": [
    "## 6.&nbsp; How could data collection be improved?"
   ]
  }
 ],
 "metadata": {
  "colab": {
   "authorship_tag": "ABX9TyPU1DcefE/1B/lu4A9antXY",
   "provenance": []
  },
  "kernelspec": {
   "display_name": "Python 3 (ipykernel)",
   "language": "python",
   "name": "python3"
  },
  "language_info": {
   "codemirror_mode": {
    "name": "ipython",
    "version": 3
   },
   "file_extension": ".py",
   "mimetype": "text/x-python",
   "name": "python",
   "nbconvert_exporter": "python",
   "pygments_lexer": "ipython3",
   "version": "3.10.9"
  }
 },
 "nbformat": 4,
 "nbformat_minor": 4
}
