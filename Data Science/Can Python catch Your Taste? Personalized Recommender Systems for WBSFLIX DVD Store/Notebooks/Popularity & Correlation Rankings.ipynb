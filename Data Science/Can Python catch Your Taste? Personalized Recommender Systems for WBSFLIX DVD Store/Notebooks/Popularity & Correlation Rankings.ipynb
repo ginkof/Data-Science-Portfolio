{
 "cells": [
  {
   "cell_type": "markdown",
   "id": "2a7ed8ba-04b4-4526-b5a4-390ebb1d06fd",
   "metadata": {
    "jp-MarkdownHeadingCollapsed": true,
    "tags": []
   },
   "source": [
    "## 1 Preliminary data exploration"
   ]
  },
  {
   "cell_type": "code",
   "execution_count": 1,
   "id": "20bfe2ad-aa0e-49d0-b8a8-4f94a632932e",
   "metadata": {},
   "outputs": [],
   "source": [
    "import pandas as pd\n",
    "\n",
    "titles = ['links','movies','ratings','tags']\n",
    "path_csv = lambda title: f'/Users/G/WBS Bootcamp/8. Recommender Systems/Data/{title}.csv'\n",
    "\n",
    "links = pd.read_csv(path_csv(titles[0]))\n",
    "movies = pd.read_csv(path_csv(titles[1]))\n",
    "ratings = pd.read_csv(path_csv(titles[2]))\n",
    "tags = pd.read_csv(path_csv(titles[3]))"
   ]
  },
  {
   "cell_type": "markdown",
   "id": "32541f62-1a52-405d-a6b4-5b82a15e7257",
   "metadata": {
    "jp-MarkdownHeadingCollapsed": true,
    "tags": []
   },
   "source": [
    "### 1.1 Dataframes and Features description"
   ]
  },
  {
   "cell_type": "markdown",
   "id": "a9e375a6-bd1c-4927-9987-6146930d9ea1",
   "metadata": {},
   "source": [
    "* `links.csv`: Identifiers that can be used to link to other sources of movie data. Each line of this file after the header row represents one movie\n",
    "    * `imdbId` is an identifier for movies used by <http://www.imdb.com>. E.g., the movie Toy Story has the link <http://www.imdb.com/title/tt0114709/>.\n",
    "\n",
    "    * `tmdbId` is an identifier for movies used by <https://www.themoviedb.org>. E.g., the movie Toy Story has the link <https://www.themoviedb.org/movie/862>.\n",
    "\n",
    "* `ratings.csv`: Ratings are made on a 5-star scale, with half-star increments (0.5 stars - 5.0 stars).\n",
    "\n",
    "* `tags.csv`: Tags are user-generated metadata about movies. Each tag is typically a single word or short phrase. The meaning, value, and purpose of a particular tag is determined by each user.\n",
    "\n",
    "* `Timestamps`: represent seconds since midnight Coordinated Universal Time (UTC) of January 1, 1970.\n",
    "\n"
   ]
  },
  {
   "cell_type": "markdown",
   "id": "9a947abe-8bfc-4f31-89d5-d042f14f92f2",
   "metadata": {},
   "source": [
    "There are no data to impute nor to convert in appropriate datatype."
   ]
  },
  {
   "cell_type": "markdown",
   "id": "6d44ff68-a037-48ec-9973-a39aa083ea18",
   "metadata": {
    "jp-MarkdownHeadingCollapsed": true,
    "tags": []
   },
   "source": [
    "## 2 Making Recommendations Based on Popularity\n",
    "A popularity-based, non-personalised recommender system that takes as an input the ratings and movies datasets and outputs the “best” movies. How you define “best” is up to you. Those movies will appear as the top row of the WBSFLIX site."
   ]
  },
  {
   "cell_type": "code",
   "execution_count": 2,
   "id": "60e51b67-744f-4157-8b6a-79571f184ac8",
   "metadata": {},
   "outputs": [],
   "source": [
    "#introduce the average rating and the rating count\n",
    "popularity = ratings[['movieId','rating']].groupby(by='movieId').agg(avg_rating=(\"rating\",\"mean\"))\n",
    "popularity['rating_count'] = ratings[['movieId','rating']].groupby(by='movieId').agg(rating_count=(\"rating\",\"count\"))['rating_count']"
   ]
  },
  {
   "cell_type": "code",
   "execution_count": 3,
   "id": "a4bc0fff-af66-4bf7-975f-4fceddbcc11a",
   "metadata": {},
   "outputs": [
    {
     "data": {
      "text/html": [
       "<div>\n",
       "<style scoped>\n",
       "    .dataframe tbody tr th:only-of-type {\n",
       "        vertical-align: middle;\n",
       "    }\n",
       "\n",
       "    .dataframe tbody tr th {\n",
       "        vertical-align: top;\n",
       "    }\n",
       "\n",
       "    .dataframe thead th {\n",
       "        text-align: right;\n",
       "    }\n",
       "</style>\n",
       "<table border=\"1\" class=\"dataframe\">\n",
       "  <thead>\n",
       "    <tr style=\"text-align: right;\">\n",
       "      <th></th>\n",
       "      <th>avg_rating</th>\n",
       "      <th>rating_count</th>\n",
       "    </tr>\n",
       "    <tr>\n",
       "      <th>movieId</th>\n",
       "      <th></th>\n",
       "      <th></th>\n",
       "    </tr>\n",
       "  </thead>\n",
       "  <tbody>\n",
       "    <tr>\n",
       "      <th>88448</th>\n",
       "      <td>5.0</td>\n",
       "      <td>1</td>\n",
       "    </tr>\n",
       "    <tr>\n",
       "      <th>100556</th>\n",
       "      <td>5.0</td>\n",
       "      <td>1</td>\n",
       "    </tr>\n",
       "  </tbody>\n",
       "</table>\n",
       "</div>"
      ],
      "text/plain": [
       "         avg_rating  rating_count\n",
       "movieId                          \n",
       "88448           5.0             1\n",
       "100556          5.0             1"
      ]
     },
     "execution_count": 3,
     "metadata": {},
     "output_type": "execute_result"
    }
   ],
   "source": [
    "#ordering by avg_rating\n",
    "popularity.sort_values(by='avg_rating',ascending = False).head(2)"
   ]
  },
  {
   "cell_type": "code",
   "execution_count": 4,
   "id": "f844f383-d345-4b7b-87ed-ced99a0d28d2",
   "metadata": {},
   "outputs": [
    {
     "data": {
      "text/html": [
       "<div>\n",
       "<style scoped>\n",
       "    .dataframe tbody tr th:only-of-type {\n",
       "        vertical-align: middle;\n",
       "    }\n",
       "\n",
       "    .dataframe tbody tr th {\n",
       "        vertical-align: top;\n",
       "    }\n",
       "\n",
       "    .dataframe thead th {\n",
       "        text-align: right;\n",
       "    }\n",
       "</style>\n",
       "<table border=\"1\" class=\"dataframe\">\n",
       "  <thead>\n",
       "    <tr style=\"text-align: right;\">\n",
       "      <th></th>\n",
       "      <th>avg_rating</th>\n",
       "      <th>rating_count</th>\n",
       "    </tr>\n",
       "    <tr>\n",
       "      <th>movieId</th>\n",
       "      <th></th>\n",
       "      <th></th>\n",
       "    </tr>\n",
       "  </thead>\n",
       "  <tbody>\n",
       "    <tr>\n",
       "      <th>356</th>\n",
       "      <td>4.164134</td>\n",
       "      <td>329</td>\n",
       "    </tr>\n",
       "    <tr>\n",
       "      <th>318</th>\n",
       "      <td>4.429022</td>\n",
       "      <td>317</td>\n",
       "    </tr>\n",
       "  </tbody>\n",
       "</table>\n",
       "</div>"
      ],
      "text/plain": [
       "         avg_rating  rating_count\n",
       "movieId                          \n",
       "356        4.164134           329\n",
       "318        4.429022           317"
      ]
     },
     "execution_count": 4,
     "metadata": {},
     "output_type": "execute_result"
    }
   ],
   "source": [
    "#ordering by counts\n",
    "popularity.sort_values(by='rating_count',ascending = False).head(2)"
   ]
  },
  {
   "cell_type": "markdown",
   "id": "2c5ca2ef-516a-4d7b-b822-ccc6a5698ecf",
   "metadata": {
    "jp-MarkdownHeadingCollapsed": true,
    "tags": []
   },
   "source": [
    "### 2.1 Introducing hybrid metrics\n",
    "\n",
    "* Weighted average\n",
    "$$ w_i = \\frac{ c_i \\cdot r_i}{\\sum_i c_i} $$\n",
    "where $w_i$ is the new hybrid measure, $c_i$ and $r_i$ the counts and rating of the $i$-th system.\n",
    "\n",
    "* Linear combination: we assign different weight to counts and ratings and then sum\n",
    "\n",
    "$$ \\ell_i = a c_i + b r_i$$"
   ]
  },
  {
   "cell_type": "code",
   "execution_count": 5,
   "id": "03d28757-2f69-4d69-b39b-af9903b7daa6",
   "metadata": {},
   "outputs": [],
   "source": [
    "def weight_hybrid(n,df):\n",
    "    \n",
    "    #this function adds a new column with the weights and returns the \"heaviest\" n resturants\n",
    "    \n",
    "    df2 = df.copy() \n",
    "    df2['weight'] = (df['rating_count'] * df['avg_rating']) / (df['rating_count'].sum())\n",
    "    \n",
    "    return df2.sort_values(by=\"weight\", ascending = False).head(n)\n",
    "\n",
    "#weight_hybrid(10,popularity)"
   ]
  },
  {
   "cell_type": "code",
   "execution_count": 6,
   "id": "dd49504e-f07d-415b-8d95-8afd771939d9",
   "metadata": {},
   "outputs": [],
   "source": [
    "def linear_hybrid(n, df, weight_counts):\n",
    "    #This function linearly combines ratings and counts with appropriate weights\n",
    "    \n",
    "    #Error message\n",
    "    if weight_counts < 0 or weight_counts > 1:\n",
    "        print(\"Weight must be in [0, 1]\")\n",
    "    \n",
    "    #Scaling of the data\n",
    "    from sklearn.preprocessing import MinMaxScaler\n",
    "    my_scaler = MinMaxScaler().set_output(transform=\"pandas\")\n",
    "    my_scaler.fit(df)\n",
    "    df1 = my_scaler.transform(df)\n",
    "    \n",
    "    \n",
    "    col_name = f\"lin. {weight_counts*100}%\"\n",
    "    df1[col_name] = weight_counts * df1['rating_count'] + (1 - weight_counts) * df1['avg_rating']\n",
    "    \n",
    "    return df1.sort_values(by=col_name, ascending=False).head(n)\n",
    "#linear_hybrid(10,popularity, 0.7)"
   ]
  },
  {
   "cell_type": "markdown",
   "id": "f7a4b79e-449e-4343-ac8b-7357823775cf",
   "metadata": {
    "tags": []
   },
   "source": [
    "## 3. Making Recommendations Based on Correlation"
   ]
  },
  {
   "cell_type": "markdown",
   "id": "3fd2e6f4-8160-424e-ad76-79f544c6ffeb",
   "metadata": {
    "jp-MarkdownHeadingCollapsed": true,
    "tags": []
   },
   "source": [
    "### 3.1 Item-based collaborative filtering\n",
    "\n",
    "A similarity-based, semi-personalised recommender system that takes a movie as an input – when put into production, it will be a movie that the user has watched recently or rated highly, for now, it’s a manually inputted movie – and then outputs a list of movies that are “similar” to the one inputted based on rating correlations from the user-item matrix. Those movies will appear as the second row of the WBSFLIX site.\n",
    "\n",
    "* Create a pivot table userId VS movieId for ratings\n",
    "* Pick up one movieId and calculate the Similarity with the others\n",
    "* Sort the data"
   ]
  },
  {
   "cell_type": "code",
   "execution_count": 7,
   "id": "81cad259-5d97-4036-ba36-131d7ae521f6",
   "metadata": {},
   "outputs": [],
   "source": [
    "ratings_pivot = pd.pivot_table(data = ratings, values='rating', index='userId', columns='movieId')"
   ]
  },
  {
   "cell_type": "markdown",
   "id": "7d2cbeca-fbed-4374-822f-01df8d784a42",
   "metadata": {
    "jp-MarkdownHeadingCollapsed": true,
    "tags": []
   },
   "source": [
    "#### 3.1.1 Similarities for a specific movie"
   ]
  },
  {
   "cell_type": "markdown",
   "id": "156a2d63-57df-412d-8e2f-55935c2c617c",
   "metadata": {},
   "source": [
    "Based on the previous analysis (linear method) we know that the most popular movie has `movieId=356` (Forrest Gump (1994)).\n",
    "We calculate the correlations with the method `.coorwith()`"
   ]
  },
  {
   "cell_type": "code",
   "execution_count": 8,
   "id": "0f9404af-00fa-433a-ae6a-70b71579ef2d",
   "metadata": {
    "tags": []
   },
   "outputs": [
    {
     "name": "stderr",
     "output_type": "stream",
     "text": [
      "/opt/anaconda3/lib/python3.9/site-packages/numpy/lib/function_base.py:2683: RuntimeWarning: Degrees of freedom <= 0 for slice\n",
      "  c = cov(x, y, rowvar, dtype=dtype)\n",
      "/opt/anaconda3/lib/python3.9/site-packages/numpy/lib/function_base.py:2542: RuntimeWarning: divide by zero encountered in true_divide\n",
      "  c *= np.true_divide(1, fact)\n"
     ]
    }
   ],
   "source": [
    "ratings_ForrestGump = ratings_pivot[356]\n",
    "similar_to_ForrestGump = ratings_pivot.corrwith(ratings_ForrestGump)"
   ]
  },
  {
   "cell_type": "markdown",
   "id": "e4362b33-80c5-4bc3-8fc3-f8e131da9058",
   "metadata": {},
   "source": [
    "We get wornings due to the NaNs"
   ]
  },
  {
   "cell_type": "code",
   "execution_count": 9,
   "id": "66519676-ebd5-4bae-a261-62298c9c8a7b",
   "metadata": {},
   "outputs": [
    {
     "name": "stdout",
     "output_type": "stream",
     "text": [
      "# of rows before and after dropping NaNs: 9724 -> 5460\n",
      "\n",
      "\n"
     ]
    },
    {
     "data": {
      "text/html": [
       "<div>\n",
       "<style scoped>\n",
       "    .dataframe tbody tr th:only-of-type {\n",
       "        vertical-align: middle;\n",
       "    }\n",
       "\n",
       "    .dataframe tbody tr th {\n",
       "        vertical-align: top;\n",
       "    }\n",
       "\n",
       "    .dataframe thead th {\n",
       "        text-align: right;\n",
       "    }\n",
       "</style>\n",
       "<table border=\"1\" class=\"dataframe\">\n",
       "  <thead>\n",
       "    <tr style=\"text-align: right;\">\n",
       "      <th></th>\n",
       "      <th>Pearson</th>\n",
       "    </tr>\n",
       "    <tr>\n",
       "      <th>movieId</th>\n",
       "      <th></th>\n",
       "    </tr>\n",
       "  </thead>\n",
       "  <tbody>\n",
       "    <tr>\n",
       "      <th>72998</th>\n",
       "      <td>0.225503</td>\n",
       "    </tr>\n",
       "    <tr>\n",
       "      <th>6663</th>\n",
       "      <td>0.636364</td>\n",
       "    </tr>\n",
       "    <tr>\n",
       "      <th>2427</th>\n",
       "      <td>-0.055205</td>\n",
       "    </tr>\n",
       "    <tr>\n",
       "      <th>1707</th>\n",
       "      <td>0.075307</td>\n",
       "    </tr>\n",
       "    <tr>\n",
       "      <th>7646</th>\n",
       "      <td>1.000000</td>\n",
       "    </tr>\n",
       "  </tbody>\n",
       "</table>\n",
       "</div>"
      ],
      "text/plain": [
       "          Pearson\n",
       "movieId          \n",
       "72998    0.225503\n",
       "6663     0.636364\n",
       "2427    -0.055205\n",
       "1707     0.075307\n",
       "7646     1.000000"
      ]
     },
     "execution_count": 9,
     "metadata": {},
     "output_type": "execute_result"
    }
   ],
   "source": [
    "#create a pandas dataframe\n",
    "corr_ForrestGump = pd.DataFrame(similar_to_ForrestGump, columns = ['Pearson'])\n",
    "len0 = len(corr_ForrestGump)\n",
    "#drop the NaNs\n",
    "corr_ForrestGump.dropna(inplace = True)\n",
    "print(f'# of rows before and after dropping NaNs: {len0} -> {len(corr_ForrestGump)}\\n\\n')\n",
    "corr_ForrestGump.sample(5)"
   ]
  },
  {
   "cell_type": "code",
   "execution_count": 10,
   "id": "b0e4d913-46e8-4059-89ec-608d118977d9",
   "metadata": {},
   "outputs": [
    {
     "data": {
      "text/html": [
       "<div>\n",
       "<style scoped>\n",
       "    .dataframe tbody tr th:only-of-type {\n",
       "        vertical-align: middle;\n",
       "    }\n",
       "\n",
       "    .dataframe tbody tr th {\n",
       "        vertical-align: top;\n",
       "    }\n",
       "\n",
       "    .dataframe thead th {\n",
       "        text-align: right;\n",
       "    }\n",
       "</style>\n",
       "<table border=\"1\" class=\"dataframe\">\n",
       "  <thead>\n",
       "    <tr style=\"text-align: right;\">\n",
       "      <th></th>\n",
       "      <th>lin. 70.0%</th>\n",
       "      <th>Pearson</th>\n",
       "    </tr>\n",
       "    <tr>\n",
       "      <th>movieId</th>\n",
       "      <th></th>\n",
       "      <th></th>\n",
       "    </tr>\n",
       "  </thead>\n",
       "  <tbody>\n",
       "    <tr>\n",
       "      <th>110</th>\n",
       "      <td>0.739102</td>\n",
       "      <td>0.416976</td>\n",
       "    </tr>\n",
       "    <tr>\n",
       "      <th>318</th>\n",
       "      <td>0.936325</td>\n",
       "      <td>0.297438</td>\n",
       "    </tr>\n",
       "    <tr>\n",
       "      <th>527</th>\n",
       "      <td>0.715711</td>\n",
       "      <td>0.291108</td>\n",
       "    </tr>\n",
       "    <tr>\n",
       "      <th>480</th>\n",
       "      <td>0.722459</td>\n",
       "      <td>0.290114</td>\n",
       "    </tr>\n",
       "    <tr>\n",
       "      <th>2571</th>\n",
       "      <td>0.837322</td>\n",
       "      <td>0.280199</td>\n",
       "    </tr>\n",
       "    <tr>\n",
       "      <th>593</th>\n",
       "      <td>0.837379</td>\n",
       "      <td>0.221777</td>\n",
       "    </tr>\n",
       "    <tr>\n",
       "      <th>2959</th>\n",
       "      <td>0.714639</td>\n",
       "      <td>0.188095</td>\n",
       "    </tr>\n",
       "    <tr>\n",
       "      <th>589</th>\n",
       "      <td>0.707313</td>\n",
       "      <td>0.180805</td>\n",
       "    </tr>\n",
       "    <tr>\n",
       "      <th>260</th>\n",
       "      <td>0.782275</td>\n",
       "      <td>0.108355</td>\n",
       "    </tr>\n",
       "    <tr>\n",
       "      <th>296</th>\n",
       "      <td>0.899520</td>\n",
       "      <td>0.077001</td>\n",
       "    </tr>\n",
       "  </tbody>\n",
       "</table>\n",
       "</div>"
      ],
      "text/plain": [
       "         lin. 70.0%   Pearson\n",
       "movieId                      \n",
       "110        0.739102  0.416976\n",
       "318        0.936325  0.297438\n",
       "527        0.715711  0.291108\n",
       "480        0.722459  0.290114\n",
       "2571       0.837322  0.280199\n",
       "593        0.837379  0.221777\n",
       "2959       0.714639  0.188095\n",
       "589        0.707313  0.180805\n",
       "260        0.782275  0.108355\n",
       "296        0.899520  0.077001"
      ]
     },
     "execution_count": 10,
     "metadata": {},
     "output_type": "execute_result"
    }
   ],
   "source": [
    "#Now we wanna construct a dataframe of the form (movies) VS (Pearson, popularity_metric)\n",
    "#Notice: we use the previoiusly introduced function linear_hybrid()\n",
    "\n",
    "mixed_ForrestGump = linear_hybrid(len(popularity),popularity, 0.7)[['lin. 70.0%']].join(corr_ForrestGump['Pearson'], how='left')\n",
    "mixed_ForrestGump.drop(356, inplace=True) # drop Forrest Gump itself\n",
    "\n",
    "#The 'lin. 70.0%' column ranges from 0 to ~1.\n",
    "#We filter out all rows below a threshold 0.7 and then keep only the first 10 movies in terms of similatities to Forrest Gump\n",
    "mixed_ForrestGump.loc[mixed_ForrestGump['lin. 70.0%'] > 0.7].sort_values(by='Pearson',ascending=False).head(10)"
   ]
  },
  {
   "cell_type": "markdown",
   "id": "04ff7ce1-35e6-48c7-8d1a-88592e7a90f6",
   "metadata": {
    "tags": []
   },
   "source": [
    "#### 3.1.2 Similarities for a generic movie"
   ]
  },
  {
   "cell_type": "code",
   "execution_count": 11,
   "id": "af9d0272-2d91-483d-97ea-fd5bf9e50415",
   "metadata": {},
   "outputs": [
    {
     "name": "stderr",
     "output_type": "stream",
     "text": [
      "/opt/anaconda3/lib/python3.9/site-packages/numpy/lib/function_base.py:2683: RuntimeWarning: Degrees of freedom <= 0 for slice\n",
      "  c = cov(x, y, rowvar, dtype=dtype)\n",
      "/opt/anaconda3/lib/python3.9/site-packages/numpy/lib/function_base.py:2542: RuntimeWarning: divide by zero encountered in true_divide\n",
      "  c *= np.true_divide(1, fact)\n"
     ]
    },
    {
     "data": {
      "text/html": [
       "<div>\n",
       "<style scoped>\n",
       "    .dataframe tbody tr th:only-of-type {\n",
       "        vertical-align: middle;\n",
       "    }\n",
       "\n",
       "    .dataframe tbody tr th {\n",
       "        vertical-align: top;\n",
       "    }\n",
       "\n",
       "    .dataframe thead th {\n",
       "        text-align: right;\n",
       "    }\n",
       "</style>\n",
       "<table border=\"1\" class=\"dataframe\">\n",
       "  <thead>\n",
       "    <tr style=\"text-align: right;\">\n",
       "      <th></th>\n",
       "      <th>lin. 50.0%</th>\n",
       "      <th>Pearson</th>\n",
       "    </tr>\n",
       "    <tr>\n",
       "      <th>movieId</th>\n",
       "      <th></th>\n",
       "      <th></th>\n",
       "    </tr>\n",
       "  </thead>\n",
       "  <tbody>\n",
       "    <tr>\n",
       "      <th>6016</th>\n",
       "      <td>0.517990</td>\n",
       "      <td>0.797241</td>\n",
       "    </tr>\n",
       "    <tr>\n",
       "      <th>1201</th>\n",
       "      <td>0.513324</td>\n",
       "      <td>0.685419</td>\n",
       "    </tr>\n",
       "    <tr>\n",
       "      <th>500</th>\n",
       "      <td>0.538975</td>\n",
       "      <td>0.670881</td>\n",
       "    </tr>\n",
       "    <tr>\n",
       "      <th>367</th>\n",
       "      <td>0.536106</td>\n",
       "      <td>0.647512</td>\n",
       "    </tr>\n",
       "    <tr>\n",
       "      <th>1276</th>\n",
       "      <td>0.504469</td>\n",
       "      <td>0.645497</td>\n",
       "    </tr>\n",
       "    <tr>\n",
       "      <th>2959</th>\n",
       "      <td>0.750008</td>\n",
       "      <td>0.635759</td>\n",
       "    </tr>\n",
       "    <tr>\n",
       "      <th>2028</th>\n",
       "      <td>0.690203</td>\n",
       "      <td>0.610365</td>\n",
       "    </tr>\n",
       "    <tr>\n",
       "      <th>5989</th>\n",
       "      <td>0.553974</td>\n",
       "      <td>0.583042</td>\n",
       "    </tr>\n",
       "    <tr>\n",
       "      <th>2396</th>\n",
       "      <td>0.502850</td>\n",
       "      <td>0.552881</td>\n",
       "    </tr>\n",
       "    <tr>\n",
       "      <th>597</th>\n",
       "      <td>0.535956</td>\n",
       "      <td>0.537787</td>\n",
       "    </tr>\n",
       "  </tbody>\n",
       "</table>\n",
       "</div>"
      ],
      "text/plain": [
       "         lin. 50.0%   Pearson\n",
       "movieId                      \n",
       "6016       0.517990  0.797241\n",
       "1201       0.513324  0.685419\n",
       "500        0.538975  0.670881\n",
       "367        0.536106  0.647512\n",
       "1276       0.504469  0.645497\n",
       "2959       0.750008  0.635759\n",
       "2028       0.690203  0.610365\n",
       "5989       0.553974  0.583042\n",
       "2396       0.502850  0.552881\n",
       "597        0.535956  0.537787"
      ]
     },
     "execution_count": 11,
     "metadata": {},
     "output_type": "execute_result"
    }
   ],
   "source": [
    "# now we condense all the steps above in a unique function\n",
    "# arguments: {movie_name: movie name, n:most similar n-movies}\n",
    "\n",
    "def item_based_collaborative_filtering(movie_name,n):\n",
    "    \n",
    "    #map the movie_name into movieId\n",
    "    movieID = movies.loc[movies['title'] == movie_name,'movieId'].values[0]\n",
    "\n",
    "    #pivot table\n",
    "    ratings_pivot = pd.pivot_table(data = ratings, values='rating', index='userId', columns='movieId')\n",
    "    \n",
    "    #create a pandas df with the correlations of the other movies\n",
    "    similar_to_movieID = ratings_pivot.corrwith(ratings_pivot[movieID])\n",
    "    corr_movieID = pd.DataFrame(similar_to_movieID, columns = ['Pearson'])\n",
    "    corr_movieID.dropna(inplace = True) #drop the NaNs\n",
    "\n",
    "    #Construct a df of (movies) VS (Pearson, popularity_metric)\n",
    "    mixed_movieID = linear_hybrid(len(popularity),popularity, 0.5)[['lin. 50.0%']].join(corr_movieID['Pearson'], how='left')\n",
    "    #Drop movieID\n",
    "    mixed_movieID.drop(movieID, inplace=True)\n",
    "    #We also drop NaNs\n",
    "    mixed_movieID.dropna(inplace = True) #drop the NaNs\n",
    "    #Filter out all rows below a threshold 0.7 and then keep only the first n movies in terms of similatities to movieID\n",
    "    return mixed_movieID.loc[mixed_movieID['lin. 50.0%'] > 0.5].sort_values(by='Pearson',ascending=False).head(n)\n",
    "\n",
    "\n",
    "item_based_collaborative_filtering(\"Father of the Bride Part II (1995)\",10)"
   ]
  },
  {
   "cell_type": "markdown",
   "id": "aeec4638-84a2-4355-a324-3e607312b2f9",
   "metadata": {
    "tags": []
   },
   "source": [
    "### 3.2 User-based collaborative filtering\n",
    "\n",
    "To create a user-based collaborative recommender we are going to go through a very similar process as we did with the item-based recommender. This time though we’re going to calculate the cosine similarity between users, instead of between movies."
   ]
  },
  {
   "cell_type": "code",
   "execution_count": 36,
   "id": "7c850a73-0bc8-4f6b-8b44-5a2f115f69ac",
   "metadata": {
    "tags": []
   },
   "outputs": [],
   "source": [
    "from sklearn.metrics.pairwise import cosine_similarity\n",
    "\n",
    "#create a users-items table\n",
    "user_item = pd.pivot_table(data=ratings, values='rating', index='userId', columns='movieId')\n",
    "\n",
    "#replace NaNs with zeros\n",
    "user_item.fillna(0,inplace=True)\n",
    "\n",
    "#cosine similarities\n",
    "cos_sim = pd.DataFrame(data=cosine_similarity(user_item), index=user_item.index, columns=user_item.index)"
   ]
  },
  {
   "cell_type": "markdown",
   "id": "872a472d-b86a-4cad-9d35-04adadd88ba2",
   "metadata": {},
   "source": [
    "Let us now focus on one user `uID=30`.\n",
    "\n",
    "The goal is to estimate the numbers where `uID` did not give a rate. So, first of all we have to identify those movies with rating = 0. As a result we get an array of `movieId` which we call missing_movies.\n",
    "\n",
    "For any movie in missing_movies we calculate the estimated rating $r_{\\text{u}_\\text{ID}}$ as\n",
    "\n",
    "$$r_{\\text{u}_\\text{ID}}= \\sum_{i\\neq\\text{u}_\\text{ID}\n",
    "} w_i r_i$$\n",
    "\n",
    "where $r_i$ the true rating of the other users ad $w_i$ is the similarity weight defined as\n",
    "\n",
    "$$w_i = \\frac{c_i}{\\sum_{i\\neq\\text{u}_\\text{ID}}c_i} $$\n",
    "\n",
    "where $c_i$ are is the cosine similarity of the $i$-th user and $w_i$ its weight."
   ]
  },
  {
   "cell_type": "code",
   "execution_count": 131,
   "id": "a823cec5-03d0-439f-a6b9-9e1166b9e873",
   "metadata": {},
   "outputs": [],
   "source": [
    "uID = 300\n",
    "\n",
    "#find the unrated movies and the ratings of the other users\n",
    "unseen_rating_uID = user_item.loc[user_item.index!=uID,user_item.loc[uID,:]==0]\n",
    "\n",
    "#calculate weights\n",
    "weights_uID = cos_sim.query('userId!=@uID')[uID]/sum(cos_sim.query('userId!=@uID')[uID])\n",
    "\n",
    "#construct the predicted_rating by means of the dot product\n",
    "predicted_uID = pd.DataFrame(unseen_rating_uID.T.dot(weights_uID), columns = [\"predicted_rate\"]).sort_values(by=\"predicted_rate\",ascending=False)"
   ]
  },
  {
   "cell_type": "code",
   "execution_count": 132,
   "id": "96cd6a67-4098-467a-bae0-56965f012539",
   "metadata": {},
   "outputs": [
    {
     "data": {
      "text/html": [
       "<div>\n",
       "<style scoped>\n",
       "    .dataframe tbody tr th:only-of-type {\n",
       "        vertical-align: middle;\n",
       "    }\n",
       "\n",
       "    .dataframe tbody tr th {\n",
       "        vertical-align: top;\n",
       "    }\n",
       "\n",
       "    .dataframe thead th {\n",
       "        text-align: right;\n",
       "    }\n",
       "</style>\n",
       "<table border=\"1\" class=\"dataframe\">\n",
       "  <thead>\n",
       "    <tr style=\"text-align: right;\">\n",
       "      <th></th>\n",
       "      <th>predicted_rate</th>\n",
       "      <th>movieId</th>\n",
       "      <th>title</th>\n",
       "      <th>genres</th>\n",
       "    </tr>\n",
       "  </thead>\n",
       "  <tbody>\n",
       "    <tr>\n",
       "      <th>257</th>\n",
       "      <td>2.688146</td>\n",
       "      <td>296</td>\n",
       "      <td>Pulp Fiction (1994)</td>\n",
       "      <td>Comedy|Crime|Drama|Thriller</td>\n",
       "    </tr>\n",
       "    <tr>\n",
       "      <th>224</th>\n",
       "      <td>1.907312</td>\n",
       "      <td>260</td>\n",
       "      <td>Star Wars: Episode IV - A New Hope (1977)</td>\n",
       "      <td>Action|Adventure|Sci-Fi</td>\n",
       "    </tr>\n",
       "    <tr>\n",
       "      <th>3638</th>\n",
       "      <td>1.887349</td>\n",
       "      <td>4993</td>\n",
       "      <td>Lord of the Rings: The Fellowship of the Ring,...</td>\n",
       "      <td>Adventure|Fantasy</td>\n",
       "    </tr>\n",
       "    <tr>\n",
       "      <th>46</th>\n",
       "      <td>1.878196</td>\n",
       "      <td>50</td>\n",
       "      <td>Usual Suspects, The (1995)</td>\n",
       "      <td>Crime|Mystery|Thriller</td>\n",
       "    </tr>\n",
       "    <tr>\n",
       "      <th>4800</th>\n",
       "      <td>1.846094</td>\n",
       "      <td>7153</td>\n",
       "      <td>Lord of the Rings: The Return of the King, The...</td>\n",
       "      <td>Action|Adventure|Drama|Fantasy</td>\n",
       "    </tr>\n",
       "  </tbody>\n",
       "</table>\n",
       "</div>"
      ],
      "text/plain": [
       "      predicted_rate  movieId  \\\n",
       "257         2.688146      296   \n",
       "224         1.907312      260   \n",
       "3638        1.887349     4993   \n",
       "46          1.878196       50   \n",
       "4800        1.846094     7153   \n",
       "\n",
       "                                                  title  \\\n",
       "257                                 Pulp Fiction (1994)   \n",
       "224           Star Wars: Episode IV - A New Hope (1977)   \n",
       "3638  Lord of the Rings: The Fellowship of the Ring,...   \n",
       "46                           Usual Suspects, The (1995)   \n",
       "4800  Lord of the Rings: The Return of the King, The...   \n",
       "\n",
       "                              genres  \n",
       "257      Comedy|Crime|Drama|Thriller  \n",
       "224          Action|Adventure|Sci-Fi  \n",
       "3638               Adventure|Fantasy  \n",
       "46            Crime|Mystery|Thriller  \n",
       "4800  Action|Adventure|Drama|Fantasy  "
      ]
     },
     "execution_count": 132,
     "metadata": {},
     "output_type": "execute_result"
    }
   ],
   "source": [
    "#to find the top 5 UNRATED movies we have to merge our findings with the original table\n",
    "recommendations = predicted_uID.merge(movies, left_index=True, right_on=\"movieId\")\n",
    "recommendations.sort_values(\"predicted_rate\", ascending=False).head(5)"
   ]
  },
  {
   "cell_type": "markdown",
   "id": "35d051bc-0589-4a9f-8604-fdbbefb92bb8",
   "metadata": {},
   "source": [
    "#### 3.2.1 The function"
   ]
  },
  {
   "cell_type": "code",
   "execution_count": 133,
   "id": "8a92931a-5a88-4c4f-9e94-22e839d6a640",
   "metadata": {},
   "outputs": [],
   "source": [
    "def special_for_you(uID,n):\n",
    "    \n",
    "    #find the unrated movies and the ratings of the other users\n",
    "    unseen_rating_uID = user_item.loc[user_item.index!=uID,user_item.loc[uID,:]==0]\n",
    "    \n",
    "    #calculate weights\n",
    "    weights_uID = cos_sim.query('userId!=@uID')[uID]/sum(cos_sim.query('userId!=@uID')[uID])\n",
    "    \n",
    "    #construct the predicted_rating by means of the dot product\n",
    "    predicted_uID = pd.DataFrame(unseen_rating_uID.T.dot(weights_uID), columns = [\"predicted_rate\"]).sort_values(by=\"predicted_rate\",ascending=False)\n",
    "    \n",
    "    #to find the top 5 UNRATED movies we have to merge our findings with the original table\n",
    "    recommendations = predicted_uID.merge(movies, left_index=True, right_on=\"movieId\")\n",
    "    \n",
    "    return recommendations.sort_values(\"predicted_rate\", ascending=False).head(n)"
   ]
  },
  {
   "cell_type": "code",
   "execution_count": 134,
   "id": "c9ad9fbc-8f42-4b08-bd6c-8abdb53e94d0",
   "metadata": {},
   "outputs": [
    {
     "data": {
      "text/html": [
       "<div>\n",
       "<style scoped>\n",
       "    .dataframe tbody tr th:only-of-type {\n",
       "        vertical-align: middle;\n",
       "    }\n",
       "\n",
       "    .dataframe tbody tr th {\n",
       "        vertical-align: top;\n",
       "    }\n",
       "\n",
       "    .dataframe thead th {\n",
       "        text-align: right;\n",
       "    }\n",
       "</style>\n",
       "<table border=\"1\" class=\"dataframe\">\n",
       "  <thead>\n",
       "    <tr style=\"text-align: right;\">\n",
       "      <th></th>\n",
       "      <th>predicted_rate</th>\n",
       "      <th>movieId</th>\n",
       "      <th>title</th>\n",
       "      <th>genres</th>\n",
       "    </tr>\n",
       "  </thead>\n",
       "  <tbody>\n",
       "    <tr>\n",
       "      <th>257</th>\n",
       "      <td>2.730911</td>\n",
       "      <td>296</td>\n",
       "      <td>Pulp Fiction (1994)</td>\n",
       "      <td>Comedy|Crime|Drama|Thriller</td>\n",
       "    </tr>\n",
       "    <tr>\n",
       "      <th>1939</th>\n",
       "      <td>2.395105</td>\n",
       "      <td>2571</td>\n",
       "      <td>Matrix, The (1999)</td>\n",
       "      <td>Action|Sci-Fi|Thriller</td>\n",
       "    </tr>\n",
       "    <tr>\n",
       "      <th>461</th>\n",
       "      <td>2.115291</td>\n",
       "      <td>527</td>\n",
       "      <td>Schindler's List (1993)</td>\n",
       "      <td>Drama|War</td>\n",
       "    </tr>\n",
       "    <tr>\n",
       "      <th>97</th>\n",
       "      <td>2.009459</td>\n",
       "      <td>110</td>\n",
       "      <td>Braveheart (1995)</td>\n",
       "      <td>Action|Drama|War</td>\n",
       "    </tr>\n",
       "    <tr>\n",
       "      <th>224</th>\n",
       "      <td>1.981588</td>\n",
       "      <td>260</td>\n",
       "      <td>Star Wars: Episode IV - A New Hope (1977)</td>\n",
       "      <td>Action|Adventure|Sci-Fi</td>\n",
       "    </tr>\n",
       "  </tbody>\n",
       "</table>\n",
       "</div>"
      ],
      "text/plain": [
       "      predicted_rate  movieId                                      title  \\\n",
       "257         2.730911      296                        Pulp Fiction (1994)   \n",
       "1939        2.395105     2571                         Matrix, The (1999)   \n",
       "461         2.115291      527                    Schindler's List (1993)   \n",
       "97          2.009459      110                          Braveheart (1995)   \n",
       "224         1.981588      260  Star Wars: Episode IV - A New Hope (1977)   \n",
       "\n",
       "                           genres  \n",
       "257   Comedy|Crime|Drama|Thriller  \n",
       "1939       Action|Sci-Fi|Thriller  \n",
       "461                     Drama|War  \n",
       "97               Action|Drama|War  \n",
       "224       Action|Adventure|Sci-Fi  "
      ]
     },
     "execution_count": 134,
     "metadata": {},
     "output_type": "execute_result"
    }
   ],
   "source": [
    "special_for_you(47,5)"
   ]
  },
  {
   "cell_type": "code",
   "execution_count": null,
   "id": "4c8daddb-68fc-45f5-b91e-ad1916ce7450",
   "metadata": {},
   "outputs": [],
   "source": []
  }
 ],
 "metadata": {
  "kernelspec": {
   "display_name": "Python 3 (ipykernel)",
   "language": "python",
   "name": "python3"
  },
  "language_info": {
   "codemirror_mode": {
    "name": "ipython",
    "version": 3
   },
   "file_extension": ".py",
   "mimetype": "text/x-python",
   "name": "python",
   "nbconvert_exporter": "python",
   "pygments_lexer": "ipython3",
   "version": "3.9.13"
  }
 },
 "nbformat": 4,
 "nbformat_minor": 5
}
